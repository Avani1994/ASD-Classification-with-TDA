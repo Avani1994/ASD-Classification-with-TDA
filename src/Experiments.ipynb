{
 "cells": [
  {
   "cell_type": "code",
   "execution_count": 1,
   "metadata": {},
   "outputs": [],
   "source": [
    "%load_ext autoreload\n",
    "%autoreload 2"
   ]
  },
  {
   "cell_type": "code",
   "execution_count": 2,
   "metadata": {},
   "outputs": [
    {
     "name": "stderr",
     "output_type": "stream",
     "text": [
      "/home/archit/anaconda3/lib/python3.7/site-packages/tqdm/autonotebook/__init__.py:14: TqdmExperimentalWarning: Using `tqdm.autonotebook.tqdm` in notebook mode. Use `tqdm.tqdm` instead to force console mode (e.g. in jupyter console)\n",
      "  \" (e.g. in jupyter console)\", TqdmExperimentalWarning)\n"
     ]
    },
    {
     "name": "stdout",
     "output_type": "stream",
     "text": [
      "Gudhi not found--GraphInducedComplex not available\n"
     ]
    }
   ],
   "source": [
    "import matplotlib.pyplot as plt\n",
    "import utils\n",
    "from models import *\n",
    "from sklearn.metrics import accuracy_score\n",
    "\n",
    "from skorch.dataset import Dataset\n",
    "from skorch import NeuralNetClassifier, callbacks\n",
    "from skorch.helper import predefined_split\n",
    "\n",
    "from sklearn.svm import LinearSVC, SVC\n",
    "from sklearn.ensemble import RandomForestClassifier\n",
    "\n",
    "import matplotlib.pyplot as plt"
   ]
  },
  {
   "cell_type": "code",
   "execution_count": 3,
   "metadata": {},
   "outputs": [],
   "source": [
    "TEST_FRACTION = 0.20\n",
    "EPOCHS        = 200\n",
    "\n",
    "# Read data\n",
    "data = utils.read_and_build_features()\n",
    "# data = utils.read_and_build_features()[:50]; EPOCHS=20  # smaller data for testing purposes\n",
    "\n",
    "# Split into train-test\n",
    "dataset = utils.split_train_test(data, TEST_FRACTION)\n",
    "\n",
    "corr_feature_size = dataset.X_train[0].corr_vector.shape[0]\n",
    "pi_feature_size   = dataset.X_train[0].persistence_image.shape[0]\n",
    "pl_feature_size   = dataset.X_train[0].persistence_landscape.shape[0]\n",
    "pers_input_size   = 50\n",
    "\n",
    "modelManager = ModelManager('../data_processed/', dataset, overwrite=True)\n",
    "\n",
    "featureExtractors = {'corr': utils.get_corr_features,\n",
    "                     'pi_corr': utils.get_pers_img_corr_features,\n",
    "                     'pl_corr': utils.get_pers_landscape_corr_features,\n",
    "                     'pd_corr': utils.get_pers_diag_corr_features,\n",
    "                     'pi': utils.get_pers_img_features,\n",
    "                     'pl': utils.get_pers_landscape_features,\n",
    "                     'pd': utils.get_pers_diag_features,\n",
    "                     'pd_kern': utils.get_pers_diag_kern_features,\n",
    "                     'pi_conv0': utils.get_pi_conv0_features,\n",
    "                     'pi_conv1': utils.get_pi_conv1_features,\n",
    "                     'pi_conv_dimchannel': utils.get_pi_conv_dimchannel_features,\n",
    "                     'pi_conv_sum': utils.get_pi_conv_sum_features,\n",
    "                     'pi_conv_hybrid': utils.get_pi_conv_hybrid_features\n",
    "                    }"
   ]
  },
  {
   "cell_type": "markdown",
   "metadata": {},
   "source": [
    "### Correlation models"
   ]
  },
  {
   "cell_type": "code",
   "execution_count": 4,
   "metadata": {},
   "outputs": [],
   "source": [
    "svm_corr = SVC(kernel='linear')\n",
    "rf_corr  = RandomForestClassifier(n_estimators=500)\n",
    "nn_corr  = NeuralNetClassifier(NNVec([corr_feature_size, 100, 2], dropout_prob=0.5),\n",
    "                               max_epochs=EPOCHS, verbose=False, warm_start=True)\n",
    "\n",
    "modelManager.add_model(svm_corr, 'svm_corr', featureExtractors['corr'])\n",
    "modelManager.add_model(rf_corr , 'rf_corr', featureExtractors['corr'])\n",
    "modelManager.add_model(nn_corr, 'nn_corr', featureExtractors['corr'])"
   ]
  },
  {
   "cell_type": "markdown",
   "metadata": {},
   "source": [
    "### Persistence image models"
   ]
  },
  {
   "cell_type": "code",
   "execution_count": 5,
   "metadata": {},
   "outputs": [],
   "source": [
    "svm_pi = SVC(kernel='linear')\n",
    "rf_pi  = RandomForestClassifier(n_estimators=500)\n",
    "nn_pi  = NeuralNetClassifier(NNVec([pi_feature_size, 10, 2]),\n",
    "                             max_epochs=EPOCHS, verbose=False, warm_start=True)\n",
    "\n",
    "modelManager.add_model(svm_pi, 'svm_pi', featureExtractors['pi'])\n",
    "modelManager.add_model(rf_pi , 'rf_pi', featureExtractors['pi'])\n",
    "modelManager.add_model(nn_pi, 'nn_pi', featureExtractors['pi'])"
   ]
  },
  {
   "cell_type": "code",
   "execution_count": 7,
   "metadata": {},
   "outputs": [
    {
     "data": {
      "text/plain": [
       "array([[  1, 101],\n",
       "       [  0, 105]])"
      ]
     },
     "execution_count": 7,
     "metadata": {},
     "output_type": "execute_result"
    }
   ],
   "source": [
    "modelManager.models['pi_conv_hybrid'].confusion_matrix(dataset.X_test, dataset.y_test)"
   ]
  },
  {
   "cell_type": "code",
   "execution_count": 5,
   "metadata": {},
   "outputs": [
    {
     "data": {
      "application/vnd.jupyter.widget-view+json": {
       "model_id": "47bc3258c1c649c5a4626002028035f6",
       "version_major": 2,
       "version_minor": 0
      },
      "text/plain": [
       "HBox(children=(IntProgress(value=0, max=1), HTML(value='')))"
      ]
     },
     "metadata": {},
     "output_type": "display_data"
    },
    {
     "name": "stdout",
     "output_type": "stream",
     "text": [
      "\n"
     ]
    },
    {
     "data": {
      "text/html": [
       "<div>\n",
       "<style scoped>\n",
       "    .dataframe tbody tr th:only-of-type {\n",
       "        vertical-align: middle;\n",
       "    }\n",
       "\n",
       "    .dataframe tbody tr th {\n",
       "        vertical-align: top;\n",
       "    }\n",
       "\n",
       "    .dataframe thead th {\n",
       "        text-align: right;\n",
       "    }\n",
       "</style>\n",
       "<table border=\"1\" class=\"dataframe\">\n",
       "  <thead>\n",
       "    <tr style=\"text-align: right;\">\n",
       "      <th></th>\n",
       "      <th>Model</th>\n",
       "      <th>Train time</th>\n",
       "      <th>Score</th>\n",
       "    </tr>\n",
       "  </thead>\n",
       "  <tbody>\n",
       "    <tr>\n",
       "      <th>0</th>\n",
       "      <td>pi_conv_hybrid</td>\n",
       "      <td>120.804385</td>\n",
       "      <td>0.512077</td>\n",
       "    </tr>\n",
       "  </tbody>\n",
       "</table>\n",
       "</div>"
      ],
      "text/plain": [
       "            Model  Train time     Score\n",
       "0  pi_conv_hybrid  120.804385  0.512077"
      ]
     },
     "execution_count": 5,
     "metadata": {},
     "output_type": "execute_result"
    }
   ],
   "source": [
    "# pi_conv_hybrid = NeuralNetClassifier(NNConvBranched(), max_epochs=EPOCHS, verbose=True)\n",
    "\n",
    "# modelManager.add_model(pi_conv_hybrid, 'pi_conv_hybrid', featureExtractors['pi_conv_hybrid'])\n",
    "# modelManager.train_all()\n",
    "modelManager.evaluate_all(accuracy_score)\n",
    "modelManager.tabulate()"
   ]
  },
  {
   "cell_type": "code",
   "execution_count": 5,
   "metadata": {},
   "outputs": [],
   "source": [
    "pi_conv0 = NeuralNetClassifier(NNConv(), max_epochs=EPOCHS,  verbose=False, lr=0.001)\n",
    "pi_conv1 = NeuralNetClassifier(NNConv(), max_epochs=EPOCHS,  verbose=False, lr=0.001)\n",
    "pi_conv_dimchannel = NeuralNetClassifier(NNConv(dim_channel=True), max_epochs=EPOCHS, verbose=False, lr=0.001)\n",
    "pi_conv_sum = NeuralNetClassifier(NNConv(), max_epochs=EPOCHS, verbose=False, lr=0.001)\n",
    "\n",
    "modelManager.add_model(pi_conv0, 'pi_conv0', featureExtractors['pi_conv0'])\n",
    "modelManager.add_model(pi_conv1, 'pi_conv1', featureExtractors['pi_conv1'])\n",
    "modelManager.add_model(pi_conv_dimchannel, 'pi_conv_dimchannel', featureExtractors['pi_conv_dimchannel'])\n",
    "modelManager.add_model(pi_conv_sum, 'pi_conv_sum', featureExtractors['pi_conv_sum'])"
   ]
  },
  {
   "cell_type": "code",
   "execution_count": 7,
   "metadata": {},
   "outputs": [],
   "source": [
    "# modelManager.train_all()\n",
    "# modelManager.evaluate_all(accuracy_score)\n",
    "# modelManager.tabulate()"
   ]
  },
  {
   "cell_type": "markdown",
   "metadata": {},
   "source": [
    "### Persistence Landscape models"
   ]
  },
  {
   "cell_type": "code",
   "execution_count": 8,
   "metadata": {},
   "outputs": [],
   "source": [
    "svm_pl = SVC(kernel='linear')\n",
    "rf_pl  = RandomForestClassifier(n_estimators=500)\n",
    "nn_pl  = NeuralNetClassifier(NNVec([pl_feature_size, 10, 2], dropout_prob=0.5),\n",
    "                             max_epochs=EPOCHS, verbose=False, warm_start=True)\n",
    "\n",
    "modelManager.add_model(svm_pl, 'svm_pl', featureExtractors['pl'])\n",
    "modelManager.add_model(rf_pl , 'rf_pl', featureExtractors['pl'])\n",
    "modelManager.add_model(nn_pl, 'nn_pl', featureExtractors['pl'])"
   ]
  },
  {
   "cell_type": "markdown",
   "metadata": {},
   "source": [
    "### Persistence diagram models"
   ]
  },
  {
   "cell_type": "code",
   "execution_count": 5,
   "metadata": {},
   "outputs": [],
   "source": [
    "nn_pd = NeuralNetClassifier(NNPersDiag([[pers_input_size, 25], [pers_input_size, 25]], [50, 2], dropout_prob=0.5),\n",
    "                            max_epochs=EPOCHS, verbose=False, warm_start=True)\n",
    "\n",
    "modelManager.add_model(nn_pd, 'nn_pd', featureExtractors['pd'])"
   ]
  },
  {
   "cell_type": "markdown",
   "metadata": {},
   "source": [
    "### Hybrid models"
   ]
  },
  {
   "cell_type": "code",
   "execution_count": 5,
   "metadata": {},
   "outputs": [],
   "source": [
    "pd_corr = NeuralNetClassifier(NNHybridPers([[pers_input_size, 25], [pers_input_size, 25]], [corr_feature_size, 500, 25], [75, 2], dropout_prob=0.5),\n",
    "                              max_epochs=EPOCHS, verbose=False, warm_start=True)\n",
    "pi_corr = NeuralNetClassifier(NNHybridVec([[pi_feature_size, 10], [corr_feature_size, 10]], [20, 10, 2], dropout_prob=0.5),\n",
    "                              max_epochs=EPOCHS, verbose=False, warm_start=True)\n",
    "pl_corr = NeuralNetClassifier(NNHybridVec([[pl_feature_size, 10], [corr_feature_size, 10]], [20, 10, 2], dropout_prob=0.5),\n",
    "                              max_epochs=EPOCHS, verbose=False, warm_start=True)\n",
    "\n",
    "modelManager.add_model(pd_corr, 'pd_corr', featureExtractors['pd_corr'])\n",
    "modelManager.add_model(pi_corr, 'pi_corr', featureExtractors['pi_corr'])\n",
    "modelManager.add_model(pl_corr, 'pl_corr', featureExtractors['pl_corr'])"
   ]
  },
  {
   "cell_type": "markdown",
   "metadata": {},
   "source": [
    "### Topological kernels"
   ]
  },
  {
   "cell_type": "code",
   "execution_count": 11,
   "metadata": {},
   "outputs": [],
   "source": [
    "svm_scalespace        = PersistenceKernelSVM(kernel_type='scale_space')\n",
    "svm_weightedgaussian  = PersistenceKernelSVM(kernel_type='weighted_gaussian')\n",
    "svm_slicedwasserstein = PersistenceKernelSVM(kernel_type='sliced_wasserstein')\n",
    "svm_fisher            = PersistenceKernelSVM(kernel_type='fisher')\n",
    "\n",
    "# modelManager.add_model(svm_scalespace, 'svm_scalespace', featureExtractors['pd_kern'])\n",
    "# modelManager.add_model(svm_weightedgaussian, 'svm_weightedgaussian', featureExtractors['pd_kern'])\n",
    "modelManager.add_model(svm_slicedwasserstein, 'svm_slicedwasserstein', featureExtractors['pd_kern'])\n",
    "# modelManager.add_model(svm_fisher, 'svm_fisher', featureExtractors['pd_kern'])"
   ]
  },
  {
   "cell_type": "markdown",
   "metadata": {},
   "source": [
    "### Topological kernel + Correlation"
   ]
  },
  {
   "cell_type": "code",
   "execution_count": 12,
   "metadata": {},
   "outputs": [],
   "source": [
    "svm_scalespace_corr        = PersistenceKernelSVM(kernel_type='scale_space', corr_kernel=True)\n",
    "svm_weightedgaussian_corr  = PersistenceKernelSVM(kernel_type='weighted_gaussian', corr_kernel=True)\n",
    "svm_slicedwasserstein_corr = PersistenceKernelSVM(kernel_type='sliced_wasserstein', corr_kernel=True)\n",
    "svm_fisher_corr            = PersistenceKernelSVM(kernel_type='fisher', corr_kernel=True) \n",
    "\n",
    "# modelManager.add_model(svm_scalespace_corr, 'svm_scalespace_corr', featureExtractors['pd_kern'])\n",
    "# modelManager.add_model(svm_weightedgaussian_corr, 'svm_weightedgaussian_corr', featureExtractors['pd_kern'])\n",
    "modelManager.add_model(svm_slicedwasserstein_corr, 'svm_slicedwasserstein_corr', featureExtractors['pd_kern'])\n",
    "# modelManager.add_model(svm_fisher_corr, 'svm_fisher_corr', featureExtractors['pd_kern'])"
   ]
  },
  {
   "cell_type": "code",
   "execution_count": 6,
   "metadata": {
    "scrolled": true
   },
   "outputs": [
    {
     "data": {
      "application/vnd.jupyter.widget-view+json": {
       "model_id": "edec3cd771e0482ab0fac0e27aadb686",
       "version_major": 2,
       "version_minor": 0
      },
      "text/plain": [
       "HBox(children=(IntProgress(value=0, max=4), HTML(value='')))"
      ]
     },
     "metadata": {},
     "output_type": "display_data"
    },
    {
     "name": "stdout",
     "output_type": "stream",
     "text": [
      "\n"
     ]
    }
   ],
   "source": [
    "modelManager.train_all()"
   ]
  },
  {
   "cell_type": "code",
   "execution_count": 7,
   "metadata": {},
   "outputs": [
    {
     "data": {
      "application/vnd.jupyter.widget-view+json": {
       "model_id": "599aed5e34b94510a77afb19d4b4034a",
       "version_major": 2,
       "version_minor": 0
      },
      "text/plain": [
       "HBox(children=(IntProgress(value=0, max=4), HTML(value='')))"
      ]
     },
     "metadata": {},
     "output_type": "display_data"
    },
    {
     "name": "stdout",
     "output_type": "stream",
     "text": [
      "\n"
     ]
    }
   ],
   "source": [
    "modelManager.evaluate_all(accuracy_score)"
   ]
  },
  {
   "cell_type": "code",
   "execution_count": 8,
   "metadata": {},
   "outputs": [
    {
     "data": {
      "text/html": [
       "<div>\n",
       "<style scoped>\n",
       "    .dataframe tbody tr th:only-of-type {\n",
       "        vertical-align: middle;\n",
       "    }\n",
       "\n",
       "    .dataframe tbody tr th {\n",
       "        vertical-align: top;\n",
       "    }\n",
       "\n",
       "    .dataframe thead th {\n",
       "        text-align: right;\n",
       "    }\n",
       "</style>\n",
       "<table border=\"1\" class=\"dataframe\">\n",
       "  <thead>\n",
       "    <tr style=\"text-align: right;\">\n",
       "      <th></th>\n",
       "      <th>Model</th>\n",
       "      <th>Train time</th>\n",
       "      <th>Score</th>\n",
       "    </tr>\n",
       "  </thead>\n",
       "  <tbody>\n",
       "    <tr>\n",
       "      <th>0</th>\n",
       "      <td>pi_conv0</td>\n",
       "      <td>61.065454</td>\n",
       "      <td>0.512077</td>\n",
       "    </tr>\n",
       "    <tr>\n",
       "      <th>1</th>\n",
       "      <td>pi_conv1</td>\n",
       "      <td>67.114612</td>\n",
       "      <td>0.492754</td>\n",
       "    </tr>\n",
       "    <tr>\n",
       "      <th>2</th>\n",
       "      <td>pi_conv_dimchannel</td>\n",
       "      <td>64.249000</td>\n",
       "      <td>0.512077</td>\n",
       "    </tr>\n",
       "    <tr>\n",
       "      <th>3</th>\n",
       "      <td>pi_conv_sum</td>\n",
       "      <td>58.846171</td>\n",
       "      <td>0.458937</td>\n",
       "    </tr>\n",
       "  </tbody>\n",
       "</table>\n",
       "</div>"
      ],
      "text/plain": [
       "                Model  Train time     Score\n",
       "0            pi_conv0   61.065454  0.512077\n",
       "1            pi_conv1   67.114612  0.492754\n",
       "2  pi_conv_dimchannel   64.249000  0.512077\n",
       "3         pi_conv_sum   58.846171  0.458937"
      ]
     },
     "execution_count": 8,
     "metadata": {},
     "output_type": "execute_result"
    }
   ],
   "source": [
    "modelManager.tabulate()"
   ]
  },
  {
   "cell_type": "code",
   "execution_count": 15,
   "metadata": {},
   "outputs": [],
   "source": [
    "modelManager.remove_model('svm_slicedwasserstein_corr')"
   ]
  },
  {
   "cell_type": "code",
   "execution_count": 16,
   "metadata": {},
   "outputs": [],
   "source": [
    "import pickle\n",
    "with open('../models/modelManager.pkl', 'wb') as f:\n",
    "    pickle.dump(modelManager, f)"
   ]
  },
  {
   "cell_type": "code",
   "execution_count": null,
   "metadata": {},
   "outputs": [],
   "source": []
  }
 ],
 "metadata": {
  "kernelspec": {
   "display_name": "Python 3",
   "language": "python",
   "name": "python3"
  },
  "language_info": {
   "codemirror_mode": {
    "name": "ipython",
    "version": 3
   },
   "file_extension": ".py",
   "mimetype": "text/x-python",
   "name": "python",
   "nbconvert_exporter": "python",
   "pygments_lexer": "ipython3",
   "version": "3.7.1"
  },
  "toc": {
   "base_numbering": 1,
   "nav_menu": {},
   "number_sections": false,
   "sideBar": true,
   "skip_h1_title": false,
   "title_cell": "Table of Contents",
   "title_sidebar": "Contents",
   "toc_cell": false,
   "toc_position": {},
   "toc_section_display": true,
   "toc_window_display": false
  },
  "widgets": {
   "application/vnd.jupyter.widget-state+json": {
    "state": {
     "01326a4c216248c2a5d560b065dc9970": {
      "model_module": "@jupyter-widgets/controls",
      "model_module_version": "1.4.0",
      "model_name": "HBoxModel",
      "state": {
       "children": [
        "IPY_MODEL_7b676ee7d3d64623aa606a4abd686e38",
        "IPY_MODEL_e9497ebe021b49c88a51071468a5c431"
       ],
       "layout": "IPY_MODEL_71ceb679496e4ad4a481347b5f4d72bd"
      }
     },
     "030d43debc14452f9e1bf148f3e67c7e": {
      "model_module": "@jupyter-widgets/controls",
      "model_module_version": "1.4.0",
      "model_name": "ProgressStyleModel",
      "state": {
       "description_width": "initial"
      }
     },
     "0607191bdf87484d808d6def9299c8ad": {
      "model_module": "@jupyter-widgets/controls",
      "model_module_version": "1.4.0",
      "model_name": "HBoxModel",
      "state": {
       "children": [
        "IPY_MODEL_dc53c34bdb1b4def9e3c21ff561780dd",
        "IPY_MODEL_38f96c5836b040368fc68b58fe3e327c"
       ],
       "layout": "IPY_MODEL_c2639326d19a44bdb9f7886dc6651e93"
      }
     },
     "06bcc35883f54d839688f2e97ae918ff": {
      "model_module": "@jupyter-widgets/controls",
      "model_module_version": "1.4.0",
      "model_name": "ProgressStyleModel",
      "state": {
       "description_width": "initial"
      }
     },
     "072d51be51c24cd9a151e0617ed9460d": {
      "model_module": "@jupyter-widgets/controls",
      "model_module_version": "1.4.0",
      "model_name": "IntProgressModel",
      "state": {
       "bar_style": "success",
       "description": "Model = svm_fisher_corr",
       "layout": "IPY_MODEL_0e8a7354d47c4eadb18ed3a683e17de4",
       "max": 1,
       "style": "IPY_MODEL_28bbeff5336040e68a5b0037e2980c82",
       "value": 1
      }
     },
     "079487d6054746c68f1502a6cfe92e29": {
      "model_module": "@jupyter-widgets/base",
      "model_module_version": "1.1.0",
      "model_name": "LayoutModel",
      "state": {}
     },
     "095a46ab15cd4cf080ef5cb85ef10416": {
      "model_module": "@jupyter-widgets/controls",
      "model_module_version": "1.4.0",
      "model_name": "ProgressStyleModel",
      "state": {
       "description_width": "initial"
      }
     },
     "0a94e89a94d04a6898418e12da8ac04d": {
      "model_module": "@jupyter-widgets/controls",
      "model_module_version": "1.4.0",
      "model_name": "HTMLModel",
      "state": {
       "layout": "IPY_MODEL_f26e5e2bc1dd4dc587ac9844ab2ba940",
       "style": "IPY_MODEL_d484e6379aaa4726952d93851b13df3a",
       "value": "  0% 0/13 [00:00&lt;?, ?it/s]"
      }
     },
     "0e3a316ccb3e44199ef0fadd31fee788": {
      "model_module": "@jupyter-widgets/controls",
      "model_module_version": "1.4.0",
      "model_name": "IntProgressModel",
      "state": {
       "bar_style": "success",
       "description": "Model = svm_fisher_corr",
       "layout": "IPY_MODEL_71121536d0094de48aa09cb8596fe560",
       "max": 21,
       "style": "IPY_MODEL_7f179ca769944b3fa051bc0e2118a640",
       "value": 21
      }
     },
     "0e3b6774eee54a93bb51e6f244a3f895": {
      "model_module": "@jupyter-widgets/base",
      "model_module_version": "1.1.0",
      "model_name": "LayoutModel",
      "state": {}
     },
     "0e8a7354d47c4eadb18ed3a683e17de4": {
      "model_module": "@jupyter-widgets/base",
      "model_module_version": "1.1.0",
      "model_name": "LayoutModel",
      "state": {}
     },
     "106558bab01142c9a7c373498d1ff65d": {
      "model_module": "@jupyter-widgets/controls",
      "model_module_version": "1.4.0",
      "model_name": "HBoxModel",
      "state": {
       "children": [
        "IPY_MODEL_86068e860ff340088bb193571a06ea25",
        "IPY_MODEL_71fe2f7decf244daa543572430af2472"
       ],
       "layout": "IPY_MODEL_259fe1a5c0254f95878c54af69cd6af2"
      }
     },
     "1083be9fdd2c43ac956aac26e729951d": {
      "model_module": "@jupyter-widgets/base",
      "model_module_version": "1.1.0",
      "model_name": "LayoutModel",
      "state": {}
     },
     "10e0886e64744214b5482ac81432d9f4": {
      "model_module": "@jupyter-widgets/controls",
      "model_module_version": "1.4.0",
      "model_name": "IntProgressModel",
      "state": {
       "bar_style": "success",
       "description": "Model = pl_corr",
       "layout": "IPY_MODEL_5a9d4357674840b99425a2db172bbfee",
       "max": 13,
       "style": "IPY_MODEL_395f9547100046dfbbac46f89c22f797",
       "value": 13
      }
     },
     "12dab3084189420d94adb81638add55a": {
      "model_module": "@jupyter-widgets/controls",
      "model_module_version": "1.4.0",
      "model_name": "HBoxModel",
      "state": {
       "children": [
        "IPY_MODEL_e669840e69e044d68d476958e200aacc",
        "IPY_MODEL_c9f066d756e5460ab83a932d3f2e5c67"
       ],
       "layout": "IPY_MODEL_78095b2348a14690aceb6184f4f6eb37"
      }
     },
     "180e1cc9fb6c4ed78f6e0778d1527df1": {
      "model_module": "@jupyter-widgets/base",
      "model_module_version": "1.1.0",
      "model_name": "LayoutModel",
      "state": {}
     },
     "1a623a698bc14aedad991ea48c30cda6": {
      "model_module": "@jupyter-widgets/base",
      "model_module_version": "1.1.0",
      "model_name": "LayoutModel",
      "state": {}
     },
     "1ba66063d55e40259ef1e2a9e6e01231": {
      "model_module": "@jupyter-widgets/controls",
      "model_module_version": "1.4.0",
      "model_name": "HBoxModel",
      "state": {
       "children": [
        "IPY_MODEL_fa4d38dc7d6d45e6b0d91668acac6d1f",
        "IPY_MODEL_420fd6972b7941a683cd659cff8bec87"
       ],
       "layout": "IPY_MODEL_d1087cc4ee384a65bd2165f60cefeb93"
      }
     },
     "1bca21048c804cf2aabd03a3d82f28d4": {
      "model_module": "@jupyter-widgets/controls",
      "model_module_version": "1.4.0",
      "model_name": "DescriptionStyleModel",
      "state": {
       "description_width": ""
      }
     },
     "1d476ce445394bcc8cefa5575e54dc0a": {
      "model_module": "@jupyter-widgets/controls",
      "model_module_version": "1.4.0",
      "model_name": "HBoxModel",
      "state": {
       "children": [
        "IPY_MODEL_55bda95f6433406bbc18590ec1f76365",
        "IPY_MODEL_b33407e6758d48848d91ebb317e3e5bf"
       ],
       "layout": "IPY_MODEL_1e8c913fabed4e049af95c684eb1bff3"
      }
     },
     "1e8c913fabed4e049af95c684eb1bff3": {
      "model_module": "@jupyter-widgets/base",
      "model_module_version": "1.1.0",
      "model_name": "LayoutModel",
      "state": {}
     },
     "24404063fa934e23913b253470a9168f": {
      "model_module": "@jupyter-widgets/base",
      "model_module_version": "1.1.0",
      "model_name": "LayoutModel",
      "state": {}
     },
     "2542f9dbfd204183b57f26139550be6d": {
      "model_module": "@jupyter-widgets/base",
      "model_module_version": "1.1.0",
      "model_name": "LayoutModel",
      "state": {}
     },
     "259fe1a5c0254f95878c54af69cd6af2": {
      "model_module": "@jupyter-widgets/base",
      "model_module_version": "1.1.0",
      "model_name": "LayoutModel",
      "state": {}
     },
     "28bbeff5336040e68a5b0037e2980c82": {
      "model_module": "@jupyter-widgets/controls",
      "model_module_version": "1.4.0",
      "model_name": "ProgressStyleModel",
      "state": {
       "description_width": "initial"
      }
     },
     "29c8c617ca1b46d7a9da528def34d1b3": {
      "model_module": "@jupyter-widgets/base",
      "model_module_version": "1.1.0",
      "model_name": "LayoutModel",
      "state": {}
     },
     "2a7285a2c4394948ac96d4a739cd43a9": {
      "model_module": "@jupyter-widgets/controls",
      "model_module_version": "1.4.0",
      "model_name": "DescriptionStyleModel",
      "state": {
       "description_width": ""
      }
     },
     "2ab316f8115e4af2ae6f5b9e10400c9f": {
      "model_module": "@jupyter-widgets/base",
      "model_module_version": "1.1.0",
      "model_name": "LayoutModel",
      "state": {}
     },
     "2af3302aa34f4cb39c0373106ad8f593": {
      "model_module": "@jupyter-widgets/controls",
      "model_module_version": "1.4.0",
      "model_name": "DescriptionStyleModel",
      "state": {
       "description_width": ""
      }
     },
     "2b7ed1c8af6f4bb3946ceef19abf3d64": {
      "model_module": "@jupyter-widgets/controls",
      "model_module_version": "1.4.0",
      "model_name": "HTMLModel",
      "state": {
       "layout": "IPY_MODEL_72eea4c54b6441c9928c791521152f79",
       "style": "IPY_MODEL_5b90718f53564b62bf55c5af234c4814",
       "value": "100% 13/13 [28:14&lt;00:00, 208.23s/it]"
      }
     },
     "3013984751a54ad3aa89a52e67bb93cc": {
      "model_module": "@jupyter-widgets/base",
      "model_module_version": "1.1.0",
      "model_name": "LayoutModel",
      "state": {}
     },
     "316cf2443cd649aa82e9aadf3b507738": {
      "model_module": "@jupyter-widgets/base",
      "model_module_version": "1.1.0",
      "model_name": "LayoutModel",
      "state": {}
     },
     "34166b82c64d4773a0db34794438df78": {
      "model_module": "@jupyter-widgets/controls",
      "model_module_version": "1.4.0",
      "model_name": "DescriptionStyleModel",
      "state": {
       "description_width": ""
      }
     },
     "38f96c5836b040368fc68b58fe3e327c": {
      "model_module": "@jupyter-widgets/controls",
      "model_module_version": "1.4.0",
      "model_name": "HTMLModel",
      "state": {
       "layout": "IPY_MODEL_46bb918ae9364c56a30e9ad5288b9837",
       "style": "IPY_MODEL_ef2ee31e7aaa426088c4536a12174413",
       "value": "100% 5/5 [00:17&lt;00:00,  3.90s/it]"
      }
     },
     "394628a0542d496781b93649b3dda84e": {
      "model_module": "@jupyter-widgets/base",
      "model_module_version": "1.1.0",
      "model_name": "LayoutModel",
      "state": {}
     },
     "395f9547100046dfbbac46f89c22f797": {
      "model_module": "@jupyter-widgets/controls",
      "model_module_version": "1.4.0",
      "model_name": "ProgressStyleModel",
      "state": {
       "description_width": "initial"
      }
     },
     "3a1256057df8401fb48652edd228442f": {
      "model_module": "@jupyter-widgets/controls",
      "model_module_version": "1.4.0",
      "model_name": "DescriptionStyleModel",
      "state": {
       "description_width": ""
      }
     },
     "3a2a09388eeb44b7857417a75dbf13fc": {
      "model_module": "@jupyter-widgets/controls",
      "model_module_version": "1.4.0",
      "model_name": "HTMLModel",
      "state": {
       "layout": "IPY_MODEL_0e3b6774eee54a93bb51e6f244a3f895",
       "style": "IPY_MODEL_f824a994d7274f9780b1280f53226197",
       "value": "100% 13/13 [28:26&lt;00:00, 208.95s/it]"
      }
     },
     "3be07bfa56504ecaa147f641ba5531b5": {
      "model_module": "@jupyter-widgets/base",
      "model_module_version": "1.1.0",
      "model_name": "LayoutModel",
      "state": {}
     },
     "3e3980e8c3d544e287e3c6d4e2c6e3d0": {
      "model_module": "@jupyter-widgets/controls",
      "model_module_version": "1.4.0",
      "model_name": "ProgressStyleModel",
      "state": {
       "description_width": "initial"
      }
     },
     "3e5ef15e57da4e8e8e340c27b465fab9": {
      "model_module": "@jupyter-widgets/controls",
      "model_module_version": "1.4.0",
      "model_name": "ProgressStyleModel",
      "state": {
       "description_width": "initial"
      }
     },
     "40e5c6169dd8446b8e6b136fd1165841": {
      "model_module": "@jupyter-widgets/base",
      "model_module_version": "1.1.0",
      "model_name": "LayoutModel",
      "state": {}
     },
     "420fd6972b7941a683cd659cff8bec87": {
      "model_module": "@jupyter-widgets/controls",
      "model_module_version": "1.4.0",
      "model_name": "HTMLModel",
      "state": {
       "layout": "IPY_MODEL_9c6533d2a0a24b0a8e0f9efd46916a9e",
       "style": "IPY_MODEL_65b858adc50946b8a553bc4fd4fea69b",
       "value": "100% 5/5 [00:17&lt;00:00,  3.85s/it]"
      }
     },
     "44401cba82de48939c5f2cc6171406be": {
      "model_module": "@jupyter-widgets/controls",
      "model_module_version": "1.4.0",
      "model_name": "HTMLModel",
      "state": {
       "layout": "IPY_MODEL_a013120ed86e48daa6b6b7e0fe7ea984",
       "style": "IPY_MODEL_88a5069c3de6436f9067a619109bf0fb",
       "value": " 76% 16/21 [00:16&lt;00:09,  1.81s/it]"
      }
     },
     "462cf4e7f5814588afa5a0f32e5dc52e": {
      "model_module": "@jupyter-widgets/controls",
      "model_module_version": "1.4.0",
      "model_name": "HBoxModel",
      "state": {
       "children": [
        "IPY_MODEL_10e0886e64744214b5482ac81432d9f4",
        "IPY_MODEL_3a2a09388eeb44b7857417a75dbf13fc"
       ],
       "layout": "IPY_MODEL_5809dca0a10f4cdf85f7392a666cad09"
      }
     },
     "46344def9e374835a8728520199d1155": {
      "model_module": "@jupyter-widgets/controls",
      "model_module_version": "1.4.0",
      "model_name": "HBoxModel",
      "state": {
       "children": [
        "IPY_MODEL_4cac8b50bafc45c48657118f0abe500c",
        "IPY_MODEL_2b7ed1c8af6f4bb3946ceef19abf3d64"
       ],
       "layout": "IPY_MODEL_62fa34a63c384f50bd8fe5ca4ffca94e"
      }
     },
     "46bb918ae9364c56a30e9ad5288b9837": {
      "model_module": "@jupyter-widgets/base",
      "model_module_version": "1.1.0",
      "model_name": "LayoutModel",
      "state": {}
     },
     "4ae90f8f8bbf493a81ea4cb6e62975f6": {
      "model_module": "@jupyter-widgets/controls",
      "model_module_version": "1.4.0",
      "model_name": "HTMLModel",
      "state": {
       "layout": "IPY_MODEL_c6191880f7714d6a900f4eead8880088",
       "style": "IPY_MODEL_2a7285a2c4394948ac96d4a739cd43a9",
       "value": "100% 5/5 [00:17&lt;00:00,  3.99s/it]"
      }
     },
     "4c25b27172754208928d4ed5fa9d0b9d": {
      "model_module": "@jupyter-widgets/controls",
      "model_module_version": "1.4.0",
      "model_name": "HBoxModel",
      "state": {
       "children": [
        "IPY_MODEL_f6849ef0196346919182a62f57392671",
        "IPY_MODEL_9ad7e175cbfa4ad4a4a6462430f0bfc6"
       ],
       "layout": "IPY_MODEL_a0f17b2830af48fc873b761fe07dc44d"
      }
     },
     "4c7f10363d6a4ee59dc1da97732a92bd": {
      "model_module": "@jupyter-widgets/controls",
      "model_module_version": "1.4.0",
      "model_name": "IntProgressModel",
      "state": {
       "bar_style": "success",
       "description": "Model = svm_fisher_corr",
       "layout": "IPY_MODEL_c4fe0576a8984b578c4e2c823cc4bfce",
       "max": 1,
       "style": "IPY_MODEL_71c20c16b5cd43e1934d4faf16b6baaa",
       "value": 1
      }
     },
     "4cac8b50bafc45c48657118f0abe500c": {
      "model_module": "@jupyter-widgets/controls",
      "model_module_version": "1.4.0",
      "model_name": "IntProgressModel",
      "state": {
       "bar_style": "success",
       "description": "Model = pl_corr",
       "layout": "IPY_MODEL_eeb19c9984244143be933a2cd359a5df",
       "max": 13,
       "style": "IPY_MODEL_3e3980e8c3d544e287e3c6d4e2c6e3d0",
       "value": 13
      }
     },
     "4d5dabdec8e243ac8ffd1034596b2f82": {
      "model_module": "@jupyter-widgets/controls",
      "model_module_version": "1.4.0",
      "model_name": "IntProgressModel",
      "state": {
       "bar_style": "success",
       "description": "Model = svm_fisher_corr",
       "layout": "IPY_MODEL_8261d879fb8e4fedafe3d8870f07b70b",
       "max": 1,
       "style": "IPY_MODEL_d943a9c6aea549229da00a0d3508cabe",
       "value": 1
      }
     },
     "4e99354c5eff4c148481f623ac2b7623": {
      "model_module": "@jupyter-widgets/controls",
      "model_module_version": "1.4.0",
      "model_name": "HBoxModel",
      "state": {
       "children": [
        "IPY_MODEL_aa50014e55ca4f1892c8d4127a9af9cd",
        "IPY_MODEL_ed331b78fe05406bae0f5bcd86d5a82b"
       ],
       "layout": "IPY_MODEL_8763efa1ffb84b18ba005e268b26463e"
      }
     },
     "4f00af6e47024750b8f74e3af1d7fb97": {
      "model_module": "@jupyter-widgets/base",
      "model_module_version": "1.1.0",
      "model_name": "LayoutModel",
      "state": {}
     },
     "4f0ceccb50894ff88cbe99f7f0df6c44": {
      "model_module": "@jupyter-widgets/controls",
      "model_module_version": "1.4.0",
      "model_name": "IntProgressModel",
      "state": {
       "description": "Model = svm_fisher_corr",
       "layout": "IPY_MODEL_632f915eff4c47e3b05857e9ba948747",
       "max": 1,
       "style": "IPY_MODEL_b37a4d8667c0443296f30de9000977be"
      }
     },
     "52ff1b78806c4dedbddb7067fbdece16": {
      "model_module": "@jupyter-widgets/controls",
      "model_module_version": "1.4.0",
      "model_name": "HTMLModel",
      "state": {
       "layout": "IPY_MODEL_b187292f451d42a4b4ca12b941addb59",
       "style": "IPY_MODEL_d3edd3a77dde4c8eae5911ff26871e40",
       "value": "100% 1/1 [00:07&lt;00:00,  7.20s/it]"
      }
     },
     "5312b64949ba4141bde63923eb2aa526": {
      "model_module": "@jupyter-widgets/controls",
      "model_module_version": "1.4.0",
      "model_name": "DescriptionStyleModel",
      "state": {
       "description_width": ""
      }
     },
     "5341cc2dc6a9414393e9d134a347f08e": {
      "model_module": "@jupyter-widgets/base",
      "model_module_version": "1.1.0",
      "model_name": "LayoutModel",
      "state": {}
     },
     "53a35c8892c04e1c80469379d6495896": {
      "model_module": "@jupyter-widgets/base",
      "model_module_version": "1.1.0",
      "model_name": "LayoutModel",
      "state": {}
     },
     "5452a31edc38431f9f683eeb1d6d5075": {
      "model_module": "@jupyter-widgets/controls",
      "model_module_version": "1.4.0",
      "model_name": "ProgressStyleModel",
      "state": {
       "description_width": "initial"
      }
     },
     "55995ef9638a479da7e8c0e69efc4a0a": {
      "model_module": "@jupyter-widgets/controls",
      "model_module_version": "1.4.0",
      "model_name": "HBoxModel",
      "state": {
       "children": [
        "IPY_MODEL_ab45f2268a2746d1bd23b1f7ed6cf65b",
        "IPY_MODEL_eea5cd9519464bd7874ed76dabe3b8ef"
       ],
       "layout": "IPY_MODEL_c49708407f1341f38e0a16d6102f8c8c"
      }
     },
     "55bda95f6433406bbc18590ec1f76365": {
      "model_module": "@jupyter-widgets/controls",
      "model_module_version": "1.4.0",
      "model_name": "IntProgressModel",
      "state": {
       "bar_style": "success",
       "description": "Model = svm_fisher_corr",
       "layout": "IPY_MODEL_f6c592916287426da4d48e49ecadd134",
       "max": 1,
       "style": "IPY_MODEL_3e5ef15e57da4e8e8e340c27b465fab9",
       "value": 1
      }
     },
     "5809dca0a10f4cdf85f7392a666cad09": {
      "model_module": "@jupyter-widgets/base",
      "model_module_version": "1.1.0",
      "model_name": "LayoutModel",
      "state": {}
     },
     "5a9d4357674840b99425a2db172bbfee": {
      "model_module": "@jupyter-widgets/base",
      "model_module_version": "1.1.0",
      "model_name": "LayoutModel",
      "state": {}
     },
     "5b35e60e0e5445a2b0d89c659af951b4": {
      "model_module": "@jupyter-widgets/controls",
      "model_module_version": "1.4.0",
      "model_name": "DescriptionStyleModel",
      "state": {
       "description_width": ""
      }
     },
     "5b90718f53564b62bf55c5af234c4814": {
      "model_module": "@jupyter-widgets/controls",
      "model_module_version": "1.4.0",
      "model_name": "DescriptionStyleModel",
      "state": {
       "description_width": ""
      }
     },
     "5c70abdf0d95464f93c22bdab638b0e1": {
      "model_module": "@jupyter-widgets/base",
      "model_module_version": "1.1.0",
      "model_name": "LayoutModel",
      "state": {}
     },
     "5c83725fef514252a1f38bc0ab10f226": {
      "model_module": "@jupyter-widgets/controls",
      "model_module_version": "1.4.0",
      "model_name": "HBoxModel",
      "state": {
       "children": [
        "IPY_MODEL_919353491ede43be9a2509ce4175b0a8",
        "IPY_MODEL_e30bb3c5b4d542fb9a9f418c3af96986"
       ],
       "layout": "IPY_MODEL_29c8c617ca1b46d7a9da528def34d1b3"
      }
     },
     "5f68984725b54ed584804fd160400774": {
      "model_module": "@jupyter-widgets/base",
      "model_module_version": "1.1.0",
      "model_name": "LayoutModel",
      "state": {}
     },
     "5ffdf649b6c74cad9d02e43021eb591b": {
      "model_module": "@jupyter-widgets/controls",
      "model_module_version": "1.4.0",
      "model_name": "IntProgressModel",
      "state": {
       "description": "Model = svm_fisher",
       "layout": "IPY_MODEL_95958fe6157d43129709209319b57d27",
       "max": 21,
       "style": "IPY_MODEL_095a46ab15cd4cf080ef5cb85ef10416",
       "value": 16
      }
     },
     "62fa34a63c384f50bd8fe5ca4ffca94e": {
      "model_module": "@jupyter-widgets/base",
      "model_module_version": "1.1.0",
      "model_name": "LayoutModel",
      "state": {}
     },
     "631a9e0288714e07a9bb052e9a3a0aee": {
      "model_module": "@jupyter-widgets/controls",
      "model_module_version": "1.4.0",
      "model_name": "DescriptionStyleModel",
      "state": {
       "description_width": ""
      }
     },
     "632f915eff4c47e3b05857e9ba948747": {
      "model_module": "@jupyter-widgets/base",
      "model_module_version": "1.1.0",
      "model_name": "LayoutModel",
      "state": {}
     },
     "64a28caa207b4d3e84046f7473a35f26": {
      "model_module": "@jupyter-widgets/base",
      "model_module_version": "1.1.0",
      "model_name": "LayoutModel",
      "state": {}
     },
     "65b858adc50946b8a553bc4fd4fea69b": {
      "model_module": "@jupyter-widgets/controls",
      "model_module_version": "1.4.0",
      "model_name": "DescriptionStyleModel",
      "state": {
       "description_width": ""
      }
     },
     "676309fe2a6a4a2aba8ee2ef221ab4a8": {
      "model_module": "@jupyter-widgets/base",
      "model_module_version": "1.1.0",
      "model_name": "LayoutModel",
      "state": {}
     },
     "677568f5fb6343a3a24303b7439429aa": {
      "model_module": "@jupyter-widgets/base",
      "model_module_version": "1.1.0",
      "model_name": "LayoutModel",
      "state": {}
     },
     "68baa87c348b457688ea2c4abc684f9e": {
      "model_module": "@jupyter-widgets/base",
      "model_module_version": "1.1.0",
      "model_name": "LayoutModel",
      "state": {}
     },
     "6d7e9dd487ce4d9aa046802ffb08e365": {
      "model_module": "@jupyter-widgets/controls",
      "model_module_version": "1.4.0",
      "model_name": "IntProgressModel",
      "state": {
       "bar_style": "success",
       "description": "Model = svm_fisher",
       "layout": "IPY_MODEL_8c3d767b0f6d4dc6a98c13d7a4bdea4d",
       "max": 5,
       "style": "IPY_MODEL_990cef9ba8ea4c65bfefc90e9aa428ad",
       "value": 5
      }
     },
     "71121536d0094de48aa09cb8596fe560": {
      "model_module": "@jupyter-widgets/base",
      "model_module_version": "1.1.0",
      "model_name": "LayoutModel",
      "state": {}
     },
     "718c482f3b054da8b46abdccd3e593ef": {
      "model_module": "@jupyter-widgets/base",
      "model_module_version": "1.1.0",
      "model_name": "LayoutModel",
      "state": {}
     },
     "71c20c16b5cd43e1934d4faf16b6baaa": {
      "model_module": "@jupyter-widgets/controls",
      "model_module_version": "1.4.0",
      "model_name": "ProgressStyleModel",
      "state": {
       "description_width": "initial"
      }
     },
     "71ceb679496e4ad4a481347b5f4d72bd": {
      "model_module": "@jupyter-widgets/base",
      "model_module_version": "1.1.0",
      "model_name": "LayoutModel",
      "state": {}
     },
     "71fe2f7decf244daa543572430af2472": {
      "model_module": "@jupyter-widgets/controls",
      "model_module_version": "1.4.0",
      "model_name": "HTMLModel",
      "state": {
       "layout": "IPY_MODEL_4f00af6e47024750b8f74e3af1d7fb97",
       "style": "IPY_MODEL_c4b93683c50743e49a7066cc5e0d4fcb",
       "value": "100% 13/13 [11:47&lt;00:00, 84.51s/it]"
      }
     },
     "72eea4c54b6441c9928c791521152f79": {
      "model_module": "@jupyter-widgets/base",
      "model_module_version": "1.1.0",
      "model_name": "LayoutModel",
      "state": {}
     },
     "73ad7efc2b844a468e2fd34ca436bd35": {
      "model_module": "@jupyter-widgets/controls",
      "model_module_version": "1.4.0",
      "model_name": "IntProgressModel",
      "state": {
       "bar_style": "danger",
       "description": "Model = svm_fisher_corr",
       "layout": "IPY_MODEL_079487d6054746c68f1502a6cfe92e29",
       "max": 1,
       "style": "IPY_MODEL_5452a31edc38431f9f683eeb1d6d5075"
      }
     },
     "74add6fbde664a36a825818a96315e51": {
      "model_module": "@jupyter-widgets/controls",
      "model_module_version": "1.4.0",
      "model_name": "HBoxModel",
      "state": {
       "children": [
        "IPY_MODEL_072d51be51c24cd9a151e0617ed9460d",
        "IPY_MODEL_f6d8bba2ff80457bbef684531d494410"
       ],
       "layout": "IPY_MODEL_2542f9dbfd204183b57f26139550be6d"
      }
     },
     "756342d33ca84511b49c93b3033323ee": {
      "model_module": "@jupyter-widgets/controls",
      "model_module_version": "1.4.0",
      "model_name": "HBoxModel",
      "state": {
       "children": [
        "IPY_MODEL_d71710e2fc2341638f2f6dec2ce7c7af",
        "IPY_MODEL_0a94e89a94d04a6898418e12da8ac04d"
       ],
       "layout": "IPY_MODEL_efd6c7e86689423583e9ff027a7fa5f5"
      }
     },
     "7592823f05024fb4968f9c717a411fb8": {
      "model_module": "@jupyter-widgets/controls",
      "model_module_version": "1.4.0",
      "model_name": "DescriptionStyleModel",
      "state": {
       "description_width": ""
      }
     },
     "76693d5eb5974d24b8efbbf419541f5b": {
      "model_module": "@jupyter-widgets/base",
      "model_module_version": "1.1.0",
      "model_name": "LayoutModel",
      "state": {}
     },
     "78095b2348a14690aceb6184f4f6eb37": {
      "model_module": "@jupyter-widgets/base",
      "model_module_version": "1.1.0",
      "model_name": "LayoutModel",
      "state": {}
     },
     "7883924f51894870970f2450a216f3ce": {
      "model_module": "@jupyter-widgets/controls",
      "model_module_version": "1.4.0",
      "model_name": "HTMLModel",
      "state": {
       "layout": "IPY_MODEL_394628a0542d496781b93649b3dda84e",
       "style": "IPY_MODEL_c250deb5f2cf4ca6a191c5f7bb2891fe",
       "value": "100% 1/1 [00:04&lt;00:00,  4.59s/it]"
      }
     },
     "79523b0c926e44558a98b330fbe8e09a": {
      "model_module": "@jupyter-widgets/base",
      "model_module_version": "1.1.0",
      "model_name": "LayoutModel",
      "state": {}
     },
     "7b676ee7d3d64623aa606a4abd686e38": {
      "model_module": "@jupyter-widgets/controls",
      "model_module_version": "1.4.0",
      "model_name": "IntProgressModel",
      "state": {
       "bar_style": "success",
       "description": "Model = svm_fisher_corr",
       "layout": "IPY_MODEL_a800dc86fe734d6285ec58dd5776e495",
       "max": 1,
       "style": "IPY_MODEL_da6ff39b27b2494e86d4aaa158265c11",
       "value": 1
      }
     },
     "7d02904d2eb140a3827e06dbef7b19be": {
      "model_module": "@jupyter-widgets/controls",
      "model_module_version": "1.4.0",
      "model_name": "HBoxModel",
      "state": {
       "children": [
        "IPY_MODEL_4d5dabdec8e243ac8ffd1034596b2f82",
        "IPY_MODEL_52ff1b78806c4dedbddb7067fbdece16"
       ],
       "layout": "IPY_MODEL_d0ccb23e18b9464fb6f1670deebeb7cc"
      }
     },
     "7deb0c6bb02d44c09fd64e4afa41616d": {
      "model_module": "@jupyter-widgets/controls",
      "model_module_version": "1.4.0",
      "model_name": "HTMLModel",
      "state": {
       "layout": "IPY_MODEL_ecf477e2809040ac93db54bcabf4da16",
       "style": "IPY_MODEL_d2e3de11db964a0a831c82fa4c0ae1ca",
       "value": "100% 21/21 [00:56&lt;00:00,  3.86s/it]"
      }
     },
     "7f179ca769944b3fa051bc0e2118a640": {
      "model_module": "@jupyter-widgets/controls",
      "model_module_version": "1.4.0",
      "model_name": "ProgressStyleModel",
      "state": {
       "description_width": "initial"
      }
     },
     "7f364a0f84794184aa753afc2303525d": {
      "model_module": "@jupyter-widgets/base",
      "model_module_version": "1.1.0",
      "model_name": "LayoutModel",
      "state": {}
     },
     "8261d879fb8e4fedafe3d8870f07b70b": {
      "model_module": "@jupyter-widgets/base",
      "model_module_version": "1.1.0",
      "model_name": "LayoutModel",
      "state": {}
     },
     "835bef13a64747b8bcf2c9d23074f977": {
      "model_module": "@jupyter-widgets/controls",
      "model_module_version": "1.4.0",
      "model_name": "DescriptionStyleModel",
      "state": {
       "description_width": ""
      }
     },
     "85851a1e21cf48f28bbf634bd104e975": {
      "model_module": "@jupyter-widgets/controls",
      "model_module_version": "1.4.0",
      "model_name": "ProgressStyleModel",
      "state": {
       "description_width": "initial"
      }
     },
     "86068e860ff340088bb193571a06ea25": {
      "model_module": "@jupyter-widgets/controls",
      "model_module_version": "1.4.0",
      "model_name": "IntProgressModel",
      "state": {
       "bar_style": "success",
       "description": "Model = pl_corr",
       "layout": "IPY_MODEL_1a623a698bc14aedad991ea48c30cda6",
       "max": 13,
       "style": "IPY_MODEL_a803223ce37844278bb87f98caeb5e38",
       "value": 13
      }
     },
     "8763efa1ffb84b18ba005e268b26463e": {
      "model_module": "@jupyter-widgets/base",
      "model_module_version": "1.1.0",
      "model_name": "LayoutModel",
      "state": {}
     },
     "88a5069c3de6436f9067a619109bf0fb": {
      "model_module": "@jupyter-widgets/controls",
      "model_module_version": "1.4.0",
      "model_name": "DescriptionStyleModel",
      "state": {
       "description_width": ""
      }
     },
     "8a60b04f2173446699a719d436e9459b": {
      "model_module": "@jupyter-widgets/controls",
      "model_module_version": "1.4.0",
      "model_name": "HTMLModel",
      "state": {
       "layout": "IPY_MODEL_3be07bfa56504ecaa147f641ba5531b5",
       "style": "IPY_MODEL_5b35e60e0e5445a2b0d89c659af951b4",
       "value": "100% 5/5 [00:17&lt;00:00,  3.92s/it]"
      }
     },
     "8c3d767b0f6d4dc6a98c13d7a4bdea4d": {
      "model_module": "@jupyter-widgets/base",
      "model_module_version": "1.1.0",
      "model_name": "LayoutModel",
      "state": {}
     },
     "8f96916a1dd54f568ce9327d90da5b21": {
      "model_module": "@jupyter-widgets/base",
      "model_module_version": "1.1.0",
      "model_name": "LayoutModel",
      "state": {}
     },
     "90850231d78b474c9cfc3a3b2b9d81d8": {
      "model_module": "@jupyter-widgets/controls",
      "model_module_version": "1.4.0",
      "model_name": "DescriptionStyleModel",
      "state": {
       "description_width": ""
      }
     },
     "919353491ede43be9a2509ce4175b0a8": {
      "model_module": "@jupyter-widgets/controls",
      "model_module_version": "1.4.0",
      "model_name": "IntProgressModel",
      "state": {
       "bar_style": "danger",
       "description": "Model = svm_fisher_corr",
       "layout": "IPY_MODEL_8f96916a1dd54f568ce9327d90da5b21",
       "max": 1,
       "style": "IPY_MODEL_030d43debc14452f9e1bf148f3e67c7e"
      }
     },
     "937bf398660543c6a80b28c74a555215": {
      "model_module": "@jupyter-widgets/base",
      "model_module_version": "1.1.0",
      "model_name": "LayoutModel",
      "state": {}
     },
     "945c69f0e9d746dc9aefcdec42d676dc": {
      "model_module": "@jupyter-widgets/base",
      "model_module_version": "1.1.0",
      "model_name": "LayoutModel",
      "state": {}
     },
     "95958fe6157d43129709209319b57d27": {
      "model_module": "@jupyter-widgets/base",
      "model_module_version": "1.1.0",
      "model_name": "LayoutModel",
      "state": {}
     },
     "97a180d4d730485a9ce5f399344fa2cd": {
      "model_module": "@jupyter-widgets/controls",
      "model_module_version": "1.4.0",
      "model_name": "IntProgressModel",
      "state": {
       "bar_style": "success",
       "description": "Model = svm_fisher",
       "layout": "IPY_MODEL_cb319c7b752f4659a7ccdfe970de5e9f",
       "max": 5,
       "style": "IPY_MODEL_f525931d368f444a85623d53f96c491e",
       "value": 5
      }
     },
     "990cef9ba8ea4c65bfefc90e9aa428ad": {
      "model_module": "@jupyter-widgets/controls",
      "model_module_version": "1.4.0",
      "model_name": "ProgressStyleModel",
      "state": {
       "description_width": "initial"
      }
     },
     "9ad7e175cbfa4ad4a4a6462430f0bfc6": {
      "model_module": "@jupyter-widgets/controls",
      "model_module_version": "1.4.0",
      "model_name": "HTMLModel",
      "state": {
       "layout": "IPY_MODEL_5341cc2dc6a9414393e9d134a347f08e",
       "style": "IPY_MODEL_3a1256057df8401fb48652edd228442f",
       "value": "100% 1/1 [00:04&lt;00:00,  4.54s/it]"
      }
     },
     "9c6533d2a0a24b0a8e0f9efd46916a9e": {
      "model_module": "@jupyter-widgets/base",
      "model_module_version": "1.1.0",
      "model_name": "LayoutModel",
      "state": {}
     },
     "9f2265bb1b9e4637a4113782db936683": {
      "model_module": "@jupyter-widgets/base",
      "model_module_version": "1.1.0",
      "model_name": "LayoutModel",
      "state": {}
     },
     "9f6461295cbb4821aea47def6a59986f": {
      "model_module": "@jupyter-widgets/controls",
      "model_module_version": "1.4.0",
      "model_name": "ProgressStyleModel",
      "state": {
       "description_width": "initial"
      }
     },
     "a013120ed86e48daa6b6b7e0fe7ea984": {
      "model_module": "@jupyter-widgets/base",
      "model_module_version": "1.1.0",
      "model_name": "LayoutModel",
      "state": {}
     },
     "a0302b7ba1034f3fb44726d25c719293": {
      "model_module": "@jupyter-widgets/controls",
      "model_module_version": "1.4.0",
      "model_name": "ProgressStyleModel",
      "state": {
       "description_width": "initial"
      }
     },
     "a0f17b2830af48fc873b761fe07dc44d": {
      "model_module": "@jupyter-widgets/base",
      "model_module_version": "1.1.0",
      "model_name": "LayoutModel",
      "state": {}
     },
     "a3d018ff6e464af8804e232ae0873363": {
      "model_module": "@jupyter-widgets/controls",
      "model_module_version": "1.4.0",
      "model_name": "HBoxModel",
      "state": {
       "children": [
        "IPY_MODEL_6d7e9dd487ce4d9aa046802ffb08e365",
        "IPY_MODEL_8a60b04f2173446699a719d436e9459b"
       ],
       "layout": "IPY_MODEL_180e1cc9fb6c4ed78f6e0778d1527df1"
      }
     },
     "a800dc86fe734d6285ec58dd5776e495": {
      "model_module": "@jupyter-widgets/base",
      "model_module_version": "1.1.0",
      "model_name": "LayoutModel",
      "state": {}
     },
     "a803223ce37844278bb87f98caeb5e38": {
      "model_module": "@jupyter-widgets/controls",
      "model_module_version": "1.4.0",
      "model_name": "ProgressStyleModel",
      "state": {
       "description_width": "initial"
      }
     },
     "aa50014e55ca4f1892c8d4127a9af9cd": {
      "model_module": "@jupyter-widgets/controls",
      "model_module_version": "1.4.0",
      "model_name": "IntProgressModel",
      "state": {
       "bar_style": "success",
       "description": "Model = svm_fisher_corr",
       "layout": "IPY_MODEL_1083be9fdd2c43ac956aac26e729951d",
       "max": 18,
       "style": "IPY_MODEL_e8f028a4f68a4734b8d9315eba46635e",
       "value": 18
      }
     },
     "ab45f2268a2746d1bd23b1f7ed6cf65b": {
      "model_module": "@jupyter-widgets/controls",
      "model_module_version": "1.4.0",
      "model_name": "IntProgressModel",
      "state": {
       "bar_style": "success",
       "description": "Model = svm_fisher_corr",
       "layout": "IPY_MODEL_d27f55d720ef4d20a17dca31033b1744",
       "max": 1,
       "style": "IPY_MODEL_9f6461295cbb4821aea47def6a59986f",
       "value": 1
      }
     },
     "aded7723ee0b42e39454e954b43a4bc3": {
      "model_module": "@jupyter-widgets/controls",
      "model_module_version": "1.4.0",
      "model_name": "ProgressStyleModel",
      "state": {
       "description_width": "initial"
      }
     },
     "af640af493704c258fcf29448c1aeea5": {
      "model_module": "@jupyter-widgets/base",
      "model_module_version": "1.1.0",
      "model_name": "LayoutModel",
      "state": {}
     },
     "b187292f451d42a4b4ca12b941addb59": {
      "model_module": "@jupyter-widgets/base",
      "model_module_version": "1.1.0",
      "model_name": "LayoutModel",
      "state": {}
     },
     "b19e896c39b44d489accca4155247f86": {
      "model_module": "@jupyter-widgets/controls",
      "model_module_version": "1.4.0",
      "model_name": "ProgressStyleModel",
      "state": {
       "description_width": "initial"
      }
     },
     "b243a6c6f55745eeaeaebd909207a8e7": {
      "model_module": "@jupyter-widgets/base",
      "model_module_version": "1.1.0",
      "model_name": "LayoutModel",
      "state": {}
     },
     "b33407e6758d48848d91ebb317e3e5bf": {
      "model_module": "@jupyter-widgets/controls",
      "model_module_version": "1.4.0",
      "model_name": "HTMLModel",
      "state": {
       "layout": "IPY_MODEL_d3331d52aaf14b709f18d8c45ce443bd",
       "style": "IPY_MODEL_5312b64949ba4141bde63923eb2aa526",
       "value": "100% 1/1 [00:04&lt;00:00,  4.45s/it]"
      }
     },
     "b37a4d8667c0443296f30de9000977be": {
      "model_module": "@jupyter-widgets/controls",
      "model_module_version": "1.4.0",
      "model_name": "ProgressStyleModel",
      "state": {
       "description_width": "initial"
      }
     },
     "bf2b62d142714d8e9dbb7b49639e190f": {
      "model_module": "@jupyter-widgets/base",
      "model_module_version": "1.1.0",
      "model_name": "LayoutModel",
      "state": {}
     },
     "c02622fc8f0f486ab977cbd11f38219a": {
      "model_module": "@jupyter-widgets/controls",
      "model_module_version": "1.4.0",
      "model_name": "HTMLModel",
      "state": {
       "layout": "IPY_MODEL_7f364a0f84794184aa753afc2303525d",
       "style": "IPY_MODEL_2af3302aa34f4cb39c0373106ad8f593",
       "value": "  0% 0/1 [00:00&lt;?, ?it/s]"
      }
     },
     "c250deb5f2cf4ca6a191c5f7bb2891fe": {
      "model_module": "@jupyter-widgets/controls",
      "model_module_version": "1.4.0",
      "model_name": "DescriptionStyleModel",
      "state": {
       "description_width": ""
      }
     },
     "c2639326d19a44bdb9f7886dc6651e93": {
      "model_module": "@jupyter-widgets/base",
      "model_module_version": "1.1.0",
      "model_name": "LayoutModel",
      "state": {}
     },
     "c4250d9ab2d94e5c8840633fcc0181e5": {
      "model_module": "@jupyter-widgets/controls",
      "model_module_version": "1.4.0",
      "model_name": "HTMLModel",
      "state": {
       "layout": "IPY_MODEL_945c69f0e9d746dc9aefcdec42d676dc",
       "style": "IPY_MODEL_34166b82c64d4773a0db34794438df78",
       "value": " 62% 13/21 [14:23&lt;13:46, 103.26s/it]"
      }
     },
     "c49708407f1341f38e0a16d6102f8c8c": {
      "model_module": "@jupyter-widgets/base",
      "model_module_version": "1.1.0",
      "model_name": "LayoutModel",
      "state": {}
     },
     "c4b93683c50743e49a7066cc5e0d4fcb": {
      "model_module": "@jupyter-widgets/controls",
      "model_module_version": "1.4.0",
      "model_name": "DescriptionStyleModel",
      "state": {
       "description_width": ""
      }
     },
     "c4fe0576a8984b578c4e2c823cc4bfce": {
      "model_module": "@jupyter-widgets/base",
      "model_module_version": "1.1.0",
      "model_name": "LayoutModel",
      "state": {}
     },
     "c6191880f7714d6a900f4eead8880088": {
      "model_module": "@jupyter-widgets/base",
      "model_module_version": "1.1.0",
      "model_name": "LayoutModel",
      "state": {}
     },
     "c9f066d756e5460ab83a932d3f2e5c67": {
      "model_module": "@jupyter-widgets/controls",
      "model_module_version": "1.4.0",
      "model_name": "HTMLModel",
      "state": {
       "layout": "IPY_MODEL_24404063fa934e23913b253470a9168f",
       "style": "IPY_MODEL_7592823f05024fb4968f9c717a411fb8",
       "value": "100% 1/1 [01:44&lt;00:00, 104.06s/it]"
      }
     },
     "cb319c7b752f4659a7ccdfe970de5e9f": {
      "model_module": "@jupyter-widgets/base",
      "model_module_version": "1.1.0",
      "model_name": "LayoutModel",
      "state": {}
     },
     "ce0a0d25b1a94a6a9a4c7149baf747cc": {
      "model_module": "@jupyter-widgets/controls",
      "model_module_version": "1.4.0",
      "model_name": "HBoxModel",
      "state": {
       "children": [
        "IPY_MODEL_f529fa7e1c0640ee9e61691d2725b0aa",
        "IPY_MODEL_c4250d9ab2d94e5c8840633fcc0181e5"
       ],
       "layout": "IPY_MODEL_676309fe2a6a4a2aba8ee2ef221ab4a8"
      }
     },
     "ce8852c086fa45ecb9b92e224261f37f": {
      "model_module": "@jupyter-widgets/controls",
      "model_module_version": "1.4.0",
      "model_name": "HBoxModel",
      "state": {
       "children": [
        "IPY_MODEL_73ad7efc2b844a468e2fd34ca436bd35",
        "IPY_MODEL_f26c70a131d4438ea3e9fd62c83c4b94"
       ],
       "layout": "IPY_MODEL_76693d5eb5974d24b8efbbf419541f5b"
      }
     },
     "d0124e4f95664d70b01045b565c83793": {
      "model_module": "@jupyter-widgets/controls",
      "model_module_version": "1.4.0",
      "model_name": "HBoxModel",
      "state": {
       "children": [
        "IPY_MODEL_4c7f10363d6a4ee59dc1da97732a92bd",
        "IPY_MODEL_7883924f51894870970f2450a216f3ce"
       ],
       "layout": "IPY_MODEL_3013984751a54ad3aa89a52e67bb93cc"
      }
     },
     "d0ccb23e18b9464fb6f1670deebeb7cc": {
      "model_module": "@jupyter-widgets/base",
      "model_module_version": "1.1.0",
      "model_name": "LayoutModel",
      "state": {}
     },
     "d1087cc4ee384a65bd2165f60cefeb93": {
      "model_module": "@jupyter-widgets/base",
      "model_module_version": "1.1.0",
      "model_name": "LayoutModel",
      "state": {}
     },
     "d27f55d720ef4d20a17dca31033b1744": {
      "model_module": "@jupyter-widgets/base",
      "model_module_version": "1.1.0",
      "model_name": "LayoutModel",
      "state": {}
     },
     "d2e3de11db964a0a831c82fa4c0ae1ca": {
      "model_module": "@jupyter-widgets/controls",
      "model_module_version": "1.4.0",
      "model_name": "DescriptionStyleModel",
      "state": {
       "description_width": ""
      }
     },
     "d3331d52aaf14b709f18d8c45ce443bd": {
      "model_module": "@jupyter-widgets/base",
      "model_module_version": "1.1.0",
      "model_name": "LayoutModel",
      "state": {}
     },
     "d3edd3a77dde4c8eae5911ff26871e40": {
      "model_module": "@jupyter-widgets/controls",
      "model_module_version": "1.4.0",
      "model_name": "DescriptionStyleModel",
      "state": {
       "description_width": ""
      }
     },
     "d484e6379aaa4726952d93851b13df3a": {
      "model_module": "@jupyter-widgets/controls",
      "model_module_version": "1.4.0",
      "model_name": "DescriptionStyleModel",
      "state": {
       "description_width": ""
      }
     },
     "d6f18ad14030474ab791dfefe29555df": {
      "model_module": "@jupyter-widgets/controls",
      "model_module_version": "1.4.0",
      "model_name": "ProgressStyleModel",
      "state": {
       "description_width": "initial"
      }
     },
     "d71710e2fc2341638f2f6dec2ce7c7af": {
      "model_module": "@jupyter-widgets/controls",
      "model_module_version": "1.4.0",
      "model_name": "IntProgressModel",
      "state": {
       "description": "Model = svm_corr",
       "layout": "IPY_MODEL_64a28caa207b4d3e84046f7473a35f26",
       "max": 13,
       "style": "IPY_MODEL_b19e896c39b44d489accca4155247f86"
      }
     },
     "d943a9c6aea549229da00a0d3508cabe": {
      "model_module": "@jupyter-widgets/controls",
      "model_module_version": "1.4.0",
      "model_name": "ProgressStyleModel",
      "state": {
       "description_width": "initial"
      }
     },
     "da6ff39b27b2494e86d4aaa158265c11": {
      "model_module": "@jupyter-widgets/controls",
      "model_module_version": "1.4.0",
      "model_name": "ProgressStyleModel",
      "state": {
       "description_width": "initial"
      }
     },
     "dc53c34bdb1b4def9e3c21ff561780dd": {
      "model_module": "@jupyter-widgets/controls",
      "model_module_version": "1.4.0",
      "model_name": "IntProgressModel",
      "state": {
       "bar_style": "success",
       "description": "Model = svm_fisher",
       "layout": "IPY_MODEL_b243a6c6f55745eeaeaebd909207a8e7",
       "max": 5,
       "style": "IPY_MODEL_85851a1e21cf48f28bbf634bd104e975",
       "value": 5
      }
     },
     "e30bb3c5b4d542fb9a9f418c3af96986": {
      "model_module": "@jupyter-widgets/controls",
      "model_module_version": "1.4.0",
      "model_name": "HTMLModel",
      "state": {
       "layout": "IPY_MODEL_718c482f3b054da8b46abdccd3e593ef",
       "style": "IPY_MODEL_835bef13a64747b8bcf2c9d23074f977",
       "value": "  0% 0/1 [00:00&lt;?, ?it/s]"
      }
     },
     "e4b58d6a2d664d998c82cb13e10e40f5": {
      "model_module": "@jupyter-widgets/controls",
      "model_module_version": "1.4.0",
      "model_name": "HBoxModel",
      "state": {
       "children": [
        "IPY_MODEL_97a180d4d730485a9ce5f399344fa2cd",
        "IPY_MODEL_4ae90f8f8bbf493a81ea4cb6e62975f6"
       ],
       "layout": "IPY_MODEL_79523b0c926e44558a98b330fbe8e09a"
      }
     },
     "e669840e69e044d68d476958e200aacc": {
      "model_module": "@jupyter-widgets/controls",
      "model_module_version": "1.4.0",
      "model_name": "IntProgressModel",
      "state": {
       "bar_style": "success",
       "description": "Model = svm_fisher_corr",
       "layout": "IPY_MODEL_5f68984725b54ed584804fd160400774",
       "max": 1,
       "style": "IPY_MODEL_d6f18ad14030474ab791dfefe29555df",
       "value": 1
      }
     },
     "e8f028a4f68a4734b8d9315eba46635e": {
      "model_module": "@jupyter-widgets/controls",
      "model_module_version": "1.4.0",
      "model_name": "ProgressStyleModel",
      "state": {
       "description_width": "initial"
      }
     },
     "e9497ebe021b49c88a51071468a5c431": {
      "model_module": "@jupyter-widgets/controls",
      "model_module_version": "1.4.0",
      "model_name": "HTMLModel",
      "state": {
       "layout": "IPY_MODEL_68baa87c348b457688ea2c4abc684f9e",
       "style": "IPY_MODEL_90850231d78b474c9cfc3a3b2b9d81d8",
       "value": "100% 1/1 [00:04&lt;00:00,  4.66s/it]"
      }
     },
     "ecf477e2809040ac93db54bcabf4da16": {
      "model_module": "@jupyter-widgets/base",
      "model_module_version": "1.1.0",
      "model_name": "LayoutModel",
      "state": {}
     },
     "ed331b78fe05406bae0f5bcd86d5a82b": {
      "model_module": "@jupyter-widgets/controls",
      "model_module_version": "1.4.0",
      "model_name": "HTMLModel",
      "state": {
       "layout": "IPY_MODEL_2ab316f8115e4af2ae6f5b9e10400c9f",
       "style": "IPY_MODEL_1bca21048c804cf2aabd03a3d82f28d4",
       "value": "100% 18/18 [02:43&lt;00:00,  7.70s/it]"
      }
     },
     "ee2da6a7bc2a45db83b59bbbe82f57c9": {
      "model_module": "@jupyter-widgets/controls",
      "model_module_version": "1.4.0",
      "model_name": "HBoxModel",
      "state": {
       "children": [
        "IPY_MODEL_0e3a316ccb3e44199ef0fadd31fee788",
        "IPY_MODEL_7deb0c6bb02d44c09fd64e4afa41616d"
       ],
       "layout": "IPY_MODEL_9f2265bb1b9e4637a4113782db936683"
      }
     },
     "eea5cd9519464bd7874ed76dabe3b8ef": {
      "model_module": "@jupyter-widgets/controls",
      "model_module_version": "1.4.0",
      "model_name": "HTMLModel",
      "state": {
       "layout": "IPY_MODEL_5c70abdf0d95464f93c22bdab638b0e1",
       "style": "IPY_MODEL_631a9e0288714e07a9bb052e9a3a0aee",
       "value": "100% 1/1 [00:04&lt;00:00,  4.53s/it]"
      }
     },
     "eeb19c9984244143be933a2cd359a5df": {
      "model_module": "@jupyter-widgets/base",
      "model_module_version": "1.1.0",
      "model_name": "LayoutModel",
      "state": {}
     },
     "ef2ee31e7aaa426088c4536a12174413": {
      "model_module": "@jupyter-widgets/controls",
      "model_module_version": "1.4.0",
      "model_name": "DescriptionStyleModel",
      "state": {
       "description_width": ""
      }
     },
     "efd6c7e86689423583e9ff027a7fa5f5": {
      "model_module": "@jupyter-widgets/base",
      "model_module_version": "1.1.0",
      "model_name": "LayoutModel",
      "state": {}
     },
     "f24b89ba69394d8a82be296495236954": {
      "model_module": "@jupyter-widgets/controls",
      "model_module_version": "1.4.0",
      "model_name": "DescriptionStyleModel",
      "state": {
       "description_width": ""
      }
     },
     "f26c70a131d4438ea3e9fd62c83c4b94": {
      "model_module": "@jupyter-widgets/controls",
      "model_module_version": "1.4.0",
      "model_name": "HTMLModel",
      "state": {
       "layout": "IPY_MODEL_bf2b62d142714d8e9dbb7b49639e190f",
       "style": "IPY_MODEL_f24b89ba69394d8a82be296495236954",
       "value": "  0% 0/1 [00:00&lt;?, ?it/s]"
      }
     },
     "f26e5e2bc1dd4dc587ac9844ab2ba940": {
      "model_module": "@jupyter-widgets/base",
      "model_module_version": "1.1.0",
      "model_name": "LayoutModel",
      "state": {}
     },
     "f525931d368f444a85623d53f96c491e": {
      "model_module": "@jupyter-widgets/controls",
      "model_module_version": "1.4.0",
      "model_name": "ProgressStyleModel",
      "state": {
       "description_width": "initial"
      }
     },
     "f529fa7e1c0640ee9e61691d2725b0aa": {
      "model_module": "@jupyter-widgets/controls",
      "model_module_version": "1.4.0",
      "model_name": "IntProgressModel",
      "state": {
       "description": "Model = svm_scalespace",
       "layout": "IPY_MODEL_937bf398660543c6a80b28c74a555215",
       "max": 21,
       "style": "IPY_MODEL_aded7723ee0b42e39454e954b43a4bc3",
       "value": 13
      }
     },
     "f6849ef0196346919182a62f57392671": {
      "model_module": "@jupyter-widgets/controls",
      "model_module_version": "1.4.0",
      "model_name": "IntProgressModel",
      "state": {
       "bar_style": "success",
       "description": "Model = svm_fisher_corr",
       "layout": "IPY_MODEL_677568f5fb6343a3a24303b7439429aa",
       "max": 1,
       "style": "IPY_MODEL_06bcc35883f54d839688f2e97ae918ff",
       "value": 1
      }
     },
     "f6c592916287426da4d48e49ecadd134": {
      "model_module": "@jupyter-widgets/base",
      "model_module_version": "1.1.0",
      "model_name": "LayoutModel",
      "state": {}
     },
     "f6d8bba2ff80457bbef684531d494410": {
      "model_module": "@jupyter-widgets/controls",
      "model_module_version": "1.4.0",
      "model_name": "HTMLModel",
      "state": {
       "layout": "IPY_MODEL_316cf2443cd649aa82e9aadf3b507738",
       "style": "IPY_MODEL_f82fcc6492b843a88a833b7b58012d82",
       "value": "100% 1/1 [00:04&lt;00:00,  4.39s/it]"
      }
     },
     "f824a994d7274f9780b1280f53226197": {
      "model_module": "@jupyter-widgets/controls",
      "model_module_version": "1.4.0",
      "model_name": "DescriptionStyleModel",
      "state": {
       "description_width": ""
      }
     },
     "f82fcc6492b843a88a833b7b58012d82": {
      "model_module": "@jupyter-widgets/controls",
      "model_module_version": "1.4.0",
      "model_name": "DescriptionStyleModel",
      "state": {
       "description_width": ""
      }
     },
     "f8894cc92a6a445b909745339ba746d9": {
      "model_module": "@jupyter-widgets/controls",
      "model_module_version": "1.4.0",
      "model_name": "HBoxModel",
      "state": {
       "children": [
        "IPY_MODEL_5ffdf649b6c74cad9d02e43021eb591b",
        "IPY_MODEL_44401cba82de48939c5f2cc6171406be"
       ],
       "layout": "IPY_MODEL_40e5c6169dd8446b8e6b136fd1165841"
      }
     },
     "fa4d38dc7d6d45e6b0d91668acac6d1f": {
      "model_module": "@jupyter-widgets/controls",
      "model_module_version": "1.4.0",
      "model_name": "IntProgressModel",
      "state": {
       "bar_style": "success",
       "description": "Model = svm_fisher",
       "layout": "IPY_MODEL_53a35c8892c04e1c80469379d6495896",
       "max": 5,
       "style": "IPY_MODEL_a0302b7ba1034f3fb44726d25c719293",
       "value": 5
      }
     },
     "fd77f8754078436ab2ef4d9c5a5fd148": {
      "model_module": "@jupyter-widgets/controls",
      "model_module_version": "1.4.0",
      "model_name": "HBoxModel",
      "state": {
       "children": [
        "IPY_MODEL_4f0ceccb50894ff88cbe99f7f0df6c44",
        "IPY_MODEL_c02622fc8f0f486ab977cbd11f38219a"
       ],
       "layout": "IPY_MODEL_af640af493704c258fcf29448c1aeea5"
      }
     }
    },
    "version_major": 2,
    "version_minor": 0
   }
  }
 },
 "nbformat": 4,
 "nbformat_minor": 2
}
