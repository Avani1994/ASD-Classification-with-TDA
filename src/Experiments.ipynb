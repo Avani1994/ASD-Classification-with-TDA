{
 "cells": [
  {
   "cell_type": "code",
   "execution_count": null,
   "metadata": {},
   "outputs": [],
   "source": [
    "# %load_ext autoreload\n",
    "# %autoreload 2"
   ]
  },
  {
   "cell_type": "code",
   "execution_count": null,
   "metadata": {},
   "outputs": [],
   "source": [
    "import matplotlib.pyplot as plt\n",
    "import utils\n",
    "from models import *\n",
    "from sklearn.metrics import accuracy_score\n",
    "\n",
    "from skorch.dataset import Dataset\n",
    "from skorch import NeuralNetClassifier, callbacks\n",
    "from skorch.helper import predefined_split\n",
    "\n",
    "from sklearn.svm import LinearSVC, SVC\n",
    "from sklearn.ensemble import RandomForestClassifier\n",
    "\n",
    "import matplotlib.pyplot as plt"
   ]
  },
  {
   "cell_type": "code",
   "execution_count": null,
   "metadata": {},
   "outputs": [],
   "source": [
    "TEST_FRACTION = 0.20\n",
    "EPOCHS        = 200\n",
    "\n",
    "# Read data\n",
    "data = utils.read_and_build_features(num_rois=200)\n",
    "# data = utils.read_and_build_features(num_rois=200)[:50]; EPOCHS=20  # smaller data for testing purposes\n",
    "\n",
    "# Split into train-test\n",
    "dataset = utils.split_train_test(data, TEST_FRACTION)"
   ]
  },
  {
   "cell_type": "code",
   "execution_count": null,
   "metadata": {},
   "outputs": [],
   "source": [
    "corr_feature_size = dataset.X_train[0].corr_vector.shape[0]\n",
    "pi_feature_size   = dataset.X_train[0].persistence_image.shape[0]\n",
    "pl_feature_size   = dataset.X_train[0].persistence_landscape.shape[0]\n",
    "pers_input_size   = 50\n",
    "\n",
    "modelManager = ModelManager('../data_processed/', dataset, overwrite=True)\n",
    "\n",
    "featureExtractors = {'corr': utils.get_corr_features,\n",
    "                     'pi_corr': utils.get_pers_img_corr_features,\n",
    "                     'pl_corr': utils.get_pers_landscape_corr_features,\n",
    "                     'pd_corr': utils.get_pers_diag_corr_features,\n",
    "                     'pi': utils.get_pers_img_features,\n",
    "                     'pl': utils.get_pers_landscape_features,\n",
    "                     'pd': utils.get_pers_diag_features,\n",
    "                     'pd_kern': utils.get_pers_diag_kern_features,\n",
    "                     'pi_conv0': utils.get_pi_conv0_features,\n",
    "                     'pi_conv1': utils.get_pi_conv1_features,\n",
    "                     'pi_conv_dimchannel': utils.get_pi_conv_dimchannel_features,\n",
    "                     'pi_conv_sum': utils.get_pi_conv_sum_features,\n",
    "                     'pi_conv_hybrid': utils.get_pi_conv_hybrid_features\n",
    "                    }"
   ]
  },
  {
   "cell_type": "markdown",
   "metadata": {},
   "source": [
    "### Correlation models"
   ]
  },
  {
   "cell_type": "code",
   "execution_count": null,
   "metadata": {},
   "outputs": [],
   "source": [
    "svm_corr = SVC(kernel='linear')\n",
    "rf_corr  = RandomForestClassifier(n_estimators=500)\n",
    "nn_corr  = NeuralNetClassifier(NNVec([corr_feature_size, 100, 2], dropout_prob=0.5),\n",
    "                               max_epochs=EPOCHS, verbose=False, warm_start=True)\n",
    "\n",
    "modelManager.add_model(svm_corr, 'svm_corr', featureExtractors['corr'])\n",
    "modelManager.add_model(rf_corr , 'rf_corr', featureExtractors['corr'])\n",
    "modelManager.add_model(nn_corr, 'nn_corr', featureExtractors['corr'])"
   ]
  },
  {
   "cell_type": "markdown",
   "metadata": {},
   "source": [
    "### Persistence image models"
   ]
  },
  {
   "cell_type": "code",
   "execution_count": null,
   "metadata": {},
   "outputs": [],
   "source": [
    "svm_pi = SVC(kernel='linear')\n",
    "rf_pi  = RandomForestClassifier(n_estimators=500)\n",
    "# nn_pi  = NeuralNetClassifier(NNVec([pi_feature_size, 10, 2]),\n",
    "#                              max_epochs=EPOCHS, verbose=False, warm_start=True)\n",
    "\n",
    "modelManager.add_model(svm_pi, 'svm_pi', featureExtractors['pi'])\n",
    "modelManager.add_model(rf_pi , 'rf_pi', featureExtractors['pi'])\n",
    "# modelManager.add_model(nn_pi, 'nn_pi', featureExtractors['pi'])\n",
    "\n",
    "# pi_conv_hybrid = NeuralNetClassifier(NNConvBranched(), max_epochs=EPOCHS, verbose=True)\n",
    "\n",
    "# modelManager.add_model(pi_conv_hybrid, 'pi_conv_hybrid', featureExtractors['pi_conv_hybrid'])\n",
    "\n",
    "# pi_conv0 = NeuralNetClassifier(NNConv(), max_epochs=EPOCHS,  verbose=False, lr=0.001)\n",
    "# pi_conv1 = NeuralNetClassifier(NNConv(), max_epochs=EPOCHS,  verbose=False, lr=0.001)\n",
    "# pi_conv_dimchannel = NeuralNetClassifier(NNConv(dim_channel=True), max_epochs=EPOCHS, verbose=False, lr=0.001)\n",
    "# pi_conv_sum = NeuralNetClassifier(NNConv(), max_epochs=EPOCHS, verbose=False, lr=0.001)\n",
    "\n",
    "# modelManager.add_model(pi_conv0, 'pi_conv0', featureExtractors['pi_conv0'])\n",
    "# modelManager.add_model(pi_conv1, 'pi_conv1', featureExtractors['pi_conv1'])\n",
    "# modelManager.add_model(pi_conv_dimchannel, 'pi_conv_dimchannel', featureExtractors['pi_conv_dimchannel'])\n",
    "# modelManager.add_model(pi_conv_sum, 'pi_conv_sum', featureExtractors['pi_conv_sum'])"
   ]
  },
  {
   "cell_type": "markdown",
   "metadata": {},
   "source": [
    "### Persistence Landscape models"
   ]
  },
  {
   "cell_type": "code",
   "execution_count": null,
   "metadata": {},
   "outputs": [],
   "source": [
    "svm_pl = SVC(kernel='linear')\n",
    "rf_pl  = RandomForestClassifier(n_estimators=500)\n",
    "nn_pl  = NeuralNetClassifier(NNVec([pl_feature_size, 10, 2], dropout_prob=0.5),\n",
    "                             max_epochs=EPOCHS, verbose=False, warm_start=True)\n",
    "\n",
    "modelManager.add_model(svm_pl, 'svm_pl', featureExtractors['pl'])\n",
    "modelManager.add_model(rf_pl , 'rf_pl', featureExtractors['pl'])\n",
    "modelManager.add_model(nn_pl, 'nn_pl', featureExtractors['pl'])"
   ]
  },
  {
   "cell_type": "markdown",
   "metadata": {},
   "source": [
    "### Persistence diagram models"
   ]
  },
  {
   "cell_type": "code",
   "execution_count": null,
   "metadata": {},
   "outputs": [],
   "source": [
    "nn_pd = NeuralNetClassifier(NNPersDiag([[pers_input_size, 25], [pers_input_size, 25]], [50, 2], dropout_prob=0.5),\n",
    "                            max_epochs=EPOCHS, verbose=False, warm_start=True)\n",
    "\n",
    "modelManager.add_model(nn_pd, 'nn_pd', featureExtractors['pd'])"
   ]
  },
  {
   "cell_type": "markdown",
   "metadata": {},
   "source": [
    "### Hybrid models"
   ]
  },
  {
   "cell_type": "code",
   "execution_count": null,
   "metadata": {},
   "outputs": [],
   "source": [
    "pd_corr = NeuralNetClassifier(NNHybridPers([[pers_input_size, 25], [pers_input_size, 25]], [corr_feature_size, 500, 25], [75, 2], dropout_prob=0.5),\n",
    "                              max_epochs=EPOCHS, verbose=False, warm_start=True)\n",
    "# pi_corr = NeuralNetClassifier(NNHybridVec([[pi_feature_size, 10], [corr_feature_size, 10]], [20, 10, 2], dropout_prob=0.5),\n",
    "#                               max_epochs=EPOCHS, verbose=False, warm_start=True)\n",
    "pl_corr = NeuralNetClassifier(NNHybridVec([[pl_feature_size, 10], [corr_feature_size, 10]], [20, 10, 2], dropout_prob=0.5),\n",
    "                              max_epochs=EPOCHS, verbose=False, warm_start=True)\n",
    "\n",
    "modelManager.add_model(pd_corr, 'pd_corr', featureExtractors['pd_corr'])\n",
    "# modelManager.add_model(pi_corr, 'pi_corr', featureExtractors['pi_corr'])\n",
    "modelManager.add_model(pl_corr, 'pl_corr', featureExtractors['pl_corr'])"
   ]
  },
  {
   "cell_type": "markdown",
   "metadata": {},
   "source": [
    "### Topological kernels"
   ]
  },
  {
   "cell_type": "code",
   "execution_count": null,
   "metadata": {},
   "outputs": [],
   "source": [
    "svm_scalespace        = PersistenceKernelSVM(kernel_type='scale_space')\n",
    "svm_weightedgaussian  = PersistenceKernelSVM(kernel_type='weighted_gaussian')\n",
    "svm_slicedwasserstein = PersistenceKernelSVM(kernel_type='sliced_wasserstein')\n",
    "svm_fisher            = PersistenceKernelSVM(kernel_type='fisher')\n",
    "\n",
    "modelManager.add_model(svm_scalespace, 'svm_scalespace', featureExtractors['pd_kern'])\n",
    "modelManager.add_model(svm_weightedgaussian, 'svm_weightedgaussian', featureExtractors['pd_kern'])\n",
    "modelManager.add_model(svm_slicedwasserstein, 'svm_slicedwasserstein', featureExtractors['pd_kern'])\n",
    "modelManager.add_model(svm_fisher, 'svm_fisher', featureExtractors['pd_kern'])"
   ]
  },
  {
   "cell_type": "markdown",
   "metadata": {},
   "source": [
    "### Topological kernel + Correlation"
   ]
  },
  {
   "cell_type": "code",
   "execution_count": null,
   "metadata": {},
   "outputs": [],
   "source": [
    "svm_scalespace_corr        = PersistenceKernelSVM(kernel_type='scale_space', corr_kernel=True)\n",
    "svm_weightedgaussian_corr  = PersistenceKernelSVM(kernel_type='weighted_gaussian', corr_kernel=True)\n",
    "svm_slicedwasserstein_corr = PersistenceKernelSVM(kernel_type='sliced_wasserstein', corr_kernel=True)\n",
    "svm_fisher_corr            = PersistenceKernelSVM(kernel_type='fisher', corr_kernel=True) \n",
    "\n",
    "modelManager.add_model(svm_scalespace_corr, 'svm_scalespace_corr', featureExtractors['pd_kern'])\n",
    "modelManager.add_model(svm_weightedgaussian_corr, 'svm_weightedgaussian_corr', featureExtractors['pd_kern'])\n",
    "modelManager.add_model(svm_slicedwasserstein_corr, 'svm_slicedwasserstein_corr', featureExtractors['pd_kern'])\n",
    "modelManager.add_model(svm_fisher_corr, 'svm_fisher_corr', featureExtractors['pd_kern'])"
   ]
  },
  {
   "cell_type": "markdown",
   "metadata": {},
   "source": [
    "### Train and evaluate models"
   ]
  },
  {
   "cell_type": "code",
   "execution_count": null,
   "metadata": {
    "scrolled": true
   },
   "outputs": [],
   "source": [
    "modelManager.train_all()"
   ]
  },
  {
   "cell_type": "code",
   "execution_count": null,
   "metadata": {},
   "outputs": [],
   "source": [
    "modelManager.evaluate_all(accuracy_score)"
   ]
  },
  {
   "cell_type": "code",
   "execution_count": null,
   "metadata": {},
   "outputs": [],
   "source": [
    "modelManager.tabulate()"
   ]
  },
  {
   "cell_type": "markdown",
   "metadata": {},
   "source": [
    "### Save trained models"
   ]
  },
  {
   "cell_type": "code",
   "execution_count": null,
   "metadata": {},
   "outputs": [],
   "source": [
    "import pickle\n",
    "with open('../models/modelManager.pkl', 'wb') as f:\n",
    "    pickle.dump(modelManager, f)"
   ]
  }
 ],
 "metadata": {
  "kernelspec": {
   "display_name": "Python 3",
   "language": "python",
   "name": "python3"
  },
  "language_info": {
   "codemirror_mode": {
    "name": "ipython",
    "version": 3
   },
   "file_extension": ".py",
   "mimetype": "text/x-python",
   "name": "python",
   "nbconvert_exporter": "python",
   "pygments_lexer": "ipython3",
   "version": "3.7.3"
  },
  "toc": {
   "base_numbering": 1,
   "nav_menu": {},
   "number_sections": false,
   "sideBar": true,
   "skip_h1_title": false,
   "title_cell": "Table of Contents",
   "title_sidebar": "Contents",
   "toc_cell": false,
   "toc_position": {},
   "toc_section_display": true,
   "toc_window_display": false
  },
  "widgets": {
   "application/vnd.jupyter.widget-state+json": {
    "state": {
     "0428dbee863e4db7b52bb7e55050ac4b": {
      "model_module": "@jupyter-widgets/base",
      "model_module_version": "1.2.0",
      "model_name": "LayoutModel",
      "state": {}
     },
     "073d66cb7296432798492fbfa65d203b": {
      "model_module": "@jupyter-widgets/controls",
      "model_module_version": "1.5.0",
      "model_name": "ProgressStyleModel",
      "state": {
       "description_width": "initial"
      }
     },
     "0c3617e3ccd74c14bfdf07914310b556": {
      "model_module": "@jupyter-widgets/base",
      "model_module_version": "1.2.0",
      "model_name": "LayoutModel",
      "state": {}
     },
     "2260b3bfa21a470eb1122163a7f41572": {
      "model_module": "@jupyter-widgets/base",
      "model_module_version": "1.2.0",
      "model_name": "LayoutModel",
      "state": {}
     },
     "4f488feb8fd04a53a3771a99b0d98f5c": {
      "model_module": "@jupyter-widgets/controls",
      "model_module_version": "1.5.0",
      "model_name": "HBoxModel",
      "state": {
       "children": [
        "IPY_MODEL_b0471f62a9ba4ab193c8af46dcb8de2d",
        "IPY_MODEL_f5f1752ed73b480180b0ab7fb4a92ea7"
       ],
       "layout": "IPY_MODEL_5d409aa5c1f146a6a03ff88bedaec46b"
      }
     },
     "5d409aa5c1f146a6a03ff88bedaec46b": {
      "model_module": "@jupyter-widgets/base",
      "model_module_version": "1.2.0",
      "model_name": "LayoutModel",
      "state": {}
     },
     "6356fcf2efed4aff974864b87b1fdf47": {
      "model_module": "@jupyter-widgets/base",
      "model_module_version": "1.2.0",
      "model_name": "LayoutModel",
      "state": {}
     },
     "78a25f6fba2540dfac3151c7ad82bc66": {
      "model_module": "@jupyter-widgets/controls",
      "model_module_version": "1.5.0",
      "model_name": "DescriptionStyleModel",
      "state": {
       "description_width": ""
      }
     },
     "8289c17a30584c7fb1dbe7f28ef921e8": {
      "model_module": "@jupyter-widgets/base",
      "model_module_version": "1.2.0",
      "model_name": "LayoutModel",
      "state": {}
     },
     "98673246a9844f41854f89c0680e7c4e": {
      "model_module": "@jupyter-widgets/controls",
      "model_module_version": "1.5.0",
      "model_name": "FloatProgressModel",
      "state": {
       "bar_style": "success",
       "description": "Model = svm_fisher_corr: 100%",
       "layout": "IPY_MODEL_0c3617e3ccd74c14bfdf07914310b556",
       "max": 19,
       "style": "IPY_MODEL_073d66cb7296432798492fbfa65d203b",
       "value": 19
      }
     },
     "a3f2f7dee75640c8bfd728e6c7a088a7": {
      "model_module": "@jupyter-widgets/controls",
      "model_module_version": "1.5.0",
      "model_name": "HBoxModel",
      "state": {
       "children": [
        "IPY_MODEL_98673246a9844f41854f89c0680e7c4e",
        "IPY_MODEL_eaf004b749774c868db74e0256a70876"
       ],
       "layout": "IPY_MODEL_0428dbee863e4db7b52bb7e55050ac4b"
      }
     },
     "b0471f62a9ba4ab193c8af46dcb8de2d": {
      "model_module": "@jupyter-widgets/controls",
      "model_module_version": "1.5.0",
      "model_name": "FloatProgressModel",
      "state": {
       "bar_style": "success",
       "description": "Model = svm_fisher_corr: 100%",
       "layout": "IPY_MODEL_2260b3bfa21a470eb1122163a7f41572",
       "max": 19,
       "style": "IPY_MODEL_efe3eb5dee2b4168b4268c19bca2eda6",
       "value": 19
      }
     },
     "c28145cddb7d438cbdb7c81288c71e27": {
      "model_module": "@jupyter-widgets/controls",
      "model_module_version": "1.5.0",
      "model_name": "DescriptionStyleModel",
      "state": {
       "description_width": ""
      }
     },
     "eaf004b749774c868db74e0256a70876": {
      "model_module": "@jupyter-widgets/controls",
      "model_module_version": "1.5.0",
      "model_name": "HTMLModel",
      "state": {
       "layout": "IPY_MODEL_8289c17a30584c7fb1dbe7f28ef921e8",
       "style": "IPY_MODEL_78a25f6fba2540dfac3151c7ad82bc66",
       "value": " 19/19 [00:42&lt;00:00,  2.23s/it]"
      }
     },
     "efe3eb5dee2b4168b4268c19bca2eda6": {
      "model_module": "@jupyter-widgets/controls",
      "model_module_version": "1.5.0",
      "model_name": "ProgressStyleModel",
      "state": {
       "description_width": "initial"
      }
     },
     "f5f1752ed73b480180b0ab7fb4a92ea7": {
      "model_module": "@jupyter-widgets/controls",
      "model_module_version": "1.5.0",
      "model_name": "HTMLModel",
      "state": {
       "layout": "IPY_MODEL_6356fcf2efed4aff974864b87b1fdf47",
       "style": "IPY_MODEL_c28145cddb7d438cbdb7c81288c71e27",
       "value": " 19/19 [01:54&lt;00:00,  6.01s/it]"
      }
     }
    },
    "version_major": 2,
    "version_minor": 0
   }
  }
 },
 "nbformat": 4,
 "nbformat_minor": 4
}
