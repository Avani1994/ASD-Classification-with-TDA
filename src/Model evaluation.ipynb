{
 "cells": [
  {
   "cell_type": "code",
   "execution_count": 1,
   "metadata": {},
   "outputs": [],
   "source": [
    "%load_ext autoreload\n",
    "%autoreload 2"
   ]
  },
  {
   "cell_type": "code",
   "execution_count": 2,
   "metadata": {},
   "outputs": [
    {
     "name": "stdout",
     "output_type": "stream",
     "text": [
      "Gudhi not found--GraphInducedComplex not available\n"
     ]
    },
    {
     "name": "stderr",
     "output_type": "stream",
     "text": [
      "/home/archit/anaconda3/lib/python3.7/site-packages/tqdm/autonotebook/__init__.py:14: TqdmExperimentalWarning: Using `tqdm.autonotebook.tqdm` in notebook mode. Use `tqdm.tqdm` instead to force console mode (e.g. in jupyter console)\n",
      "  \" (e.g. in jupyter console)\", TqdmExperimentalWarning)\n"
     ]
    }
   ],
   "source": [
    "from models import ModelManager\n",
    "import pickle\n",
    "import pandas as pd"
   ]
  },
  {
   "cell_type": "code",
   "execution_count": 3,
   "metadata": {},
   "outputs": [],
   "source": [
    "with open('../models/modelManager_best.pkl', 'rb') as mm:\n",
    "    modelManager = pickle.load(mm)"
   ]
  },
  {
   "cell_type": "code",
   "execution_count": 4,
   "metadata": {},
   "outputs": [
    {
     "data": {
      "text/html": [
       "<div>\n",
       "<style scoped>\n",
       "    .dataframe tbody tr th:only-of-type {\n",
       "        vertical-align: middle;\n",
       "    }\n",
       "\n",
       "    .dataframe tbody tr th {\n",
       "        vertical-align: top;\n",
       "    }\n",
       "\n",
       "    .dataframe thead th {\n",
       "        text-align: right;\n",
       "    }\n",
       "</style>\n",
       "<table border=\"1\" class=\"dataframe\">\n",
       "  <thead>\n",
       "    <tr style=\"text-align: right;\">\n",
       "      <th></th>\n",
       "      <th>Model</th>\n",
       "      <th>Train time</th>\n",
       "      <th>Score</th>\n",
       "    </tr>\n",
       "  </thead>\n",
       "  <tbody>\n",
       "    <tr>\n",
       "      <th>0</th>\n",
       "      <td>svm_corr</td>\n",
       "      <td>13.477546</td>\n",
       "      <td>0.649123</td>\n",
       "    </tr>\n",
       "    <tr>\n",
       "      <th>1</th>\n",
       "      <td>rf_corr</td>\n",
       "      <td>23.943940</td>\n",
       "      <td>0.631579</td>\n",
       "    </tr>\n",
       "    <tr>\n",
       "      <th>2</th>\n",
       "      <td>nn_corr</td>\n",
       "      <td>76.083079</td>\n",
       "      <td>0.675439</td>\n",
       "    </tr>\n",
       "    <tr>\n",
       "      <th>3</th>\n",
       "      <td>svm_pi</td>\n",
       "      <td>0.385899</td>\n",
       "      <td>0.494152</td>\n",
       "    </tr>\n",
       "    <tr>\n",
       "      <th>4</th>\n",
       "      <td>rf_pi</td>\n",
       "      <td>1.314992</td>\n",
       "      <td>0.538012</td>\n",
       "    </tr>\n",
       "    <tr>\n",
       "      <th>5</th>\n",
       "      <td>nn_pi</td>\n",
       "      <td>15.855393</td>\n",
       "      <td>0.514620</td>\n",
       "    </tr>\n",
       "    <tr>\n",
       "      <th>6</th>\n",
       "      <td>svm_pl</td>\n",
       "      <td>0.675078</td>\n",
       "      <td>0.500000</td>\n",
       "    </tr>\n",
       "    <tr>\n",
       "      <th>7</th>\n",
       "      <td>rf_pl</td>\n",
       "      <td>3.293922</td>\n",
       "      <td>0.529240</td>\n",
       "    </tr>\n",
       "    <tr>\n",
       "      <th>8</th>\n",
       "      <td>nn_pl</td>\n",
       "      <td>12.890006</td>\n",
       "      <td>0.494152</td>\n",
       "    </tr>\n",
       "    <tr>\n",
       "      <th>9</th>\n",
       "      <td>nn_pd</td>\n",
       "      <td>663.692615</td>\n",
       "      <td>0.505848</td>\n",
       "    </tr>\n",
       "    <tr>\n",
       "      <th>10</th>\n",
       "      <td>pd_corr</td>\n",
       "      <td>834.202702</td>\n",
       "      <td>0.672515</td>\n",
       "    </tr>\n",
       "    <tr>\n",
       "      <th>11</th>\n",
       "      <td>pi_corr</td>\n",
       "      <td>30.759428</td>\n",
       "      <td>0.628655</td>\n",
       "    </tr>\n",
       "    <tr>\n",
       "      <th>12</th>\n",
       "      <td>pl_corr</td>\n",
       "      <td>30.193878</td>\n",
       "      <td>0.660819</td>\n",
       "    </tr>\n",
       "  </tbody>\n",
       "</table>\n",
       "</div>"
      ],
      "text/plain": [
       "       Model  Train time     Score\n",
       "0   svm_corr   13.477546  0.649123\n",
       "1    rf_corr   23.943940  0.631579\n",
       "2    nn_corr   76.083079  0.675439\n",
       "3     svm_pi    0.385899  0.494152\n",
       "4      rf_pi    1.314992  0.538012\n",
       "5      nn_pi   15.855393  0.514620\n",
       "6     svm_pl    0.675078  0.500000\n",
       "7      rf_pl    3.293922  0.529240\n",
       "8      nn_pl   12.890006  0.494152\n",
       "9      nn_pd  663.692615  0.505848\n",
       "10   pd_corr  834.202702  0.672515\n",
       "11   pi_corr   30.759428  0.628655\n",
       "12   pl_corr   30.193878  0.660819"
      ]
     },
     "execution_count": 4,
     "metadata": {},
     "output_type": "execute_result"
    }
   ],
   "source": [
    "modelManager.tabulate()"
   ]
  },
  {
   "cell_type": "code",
   "execution_count": 5,
   "metadata": {},
   "outputs": [
    {
     "data": {
      "application/vnd.jupyter.widget-view+json": {
       "model_id": "51d5386e8b174dd5b473ff2c4cde75a8",
       "version_major": 2,
       "version_minor": 0
      },
      "text/plain": [
       "HBox(children=(IntProgress(value=0, max=4), HTML(value='')))"
      ]
     },
     "metadata": {},
     "output_type": "display_data"
    },
    {
     "name": "stdout",
     "output_type": "stream",
     "text": [
      "\n"
     ]
    }
   ],
   "source": [
    "pd = modelManager.significance_matrix(['rf_corr', 'svm_corr', 'nn_corr', 'pd_corr'], test_type='mcnemar_test')"
   ]
  },
  {
   "cell_type": "code",
   "execution_count": 6,
   "metadata": {},
   "outputs": [
    {
     "data": {
      "application/vnd.jupyter.widget-view+json": {
       "model_id": "243fd017f9804455b987d93a9d0715bd",
       "version_major": 2,
       "version_minor": 0
      },
      "text/plain": [
       "HBox(children=(IntProgress(value=0, max=4), HTML(value='')))"
      ]
     },
     "metadata": {},
     "output_type": "display_data"
    },
    {
     "name": "stdout",
     "output_type": "stream",
     "text": [
      "\n"
     ]
    }
   ],
   "source": [
    "pi = modelManager.significance_matrix(['rf_corr', 'svm_corr', 'nn_corr', 'pi_corr'], test_type='mcnemar_test')"
   ]
  },
  {
   "cell_type": "code",
   "execution_count": 7,
   "metadata": {},
   "outputs": [
    {
     "data": {
      "application/vnd.jupyter.widget-view+json": {
       "model_id": "fc9b80fa9c6648f1ac250a68be664557",
       "version_major": 2,
       "version_minor": 0
      },
      "text/plain": [
       "HBox(children=(IntProgress(value=0, max=4), HTML(value='')))"
      ]
     },
     "metadata": {},
     "output_type": "display_data"
    },
    {
     "name": "stdout",
     "output_type": "stream",
     "text": [
      "\n"
     ]
    }
   ],
   "source": [
    "pl = modelManager.significance_matrix(['rf_corr', 'svm_corr', 'nn_corr', 'pl_corr'], test_type='mcnemar_test')"
   ]
  },
  {
   "cell_type": "code",
   "execution_count": 6,
   "metadata": {},
   "outputs": [
    {
     "data": {
      "text/html": [
       "<div>\n",
       "<style scoped>\n",
       "    .dataframe tbody tr th:only-of-type {\n",
       "        vertical-align: middle;\n",
       "    }\n",
       "\n",
       "    .dataframe tbody tr th {\n",
       "        vertical-align: top;\n",
       "    }\n",
       "\n",
       "    .dataframe thead th {\n",
       "        text-align: right;\n",
       "    }\n",
       "</style>\n",
       "<table border=\"1\" class=\"dataframe\">\n",
       "  <thead>\n",
       "    <tr style=\"text-align: right;\">\n",
       "      <th></th>\n",
       "      <th>Accuracy</th>\n",
       "      <th>rf_corr</th>\n",
       "      <th>svm_corr</th>\n",
       "      <th>nn_corr</th>\n",
       "      <th>pd_corr</th>\n",
       "    </tr>\n",
       "  </thead>\n",
       "  <tbody>\n",
       "    <tr>\n",
       "      <th>rf_corr</th>\n",
       "      <td>0.6316</td>\n",
       "      <td>1.0000</td>\n",
       "      <td>0.6338</td>\n",
       "      <td>0.1915</td>\n",
       "      <td>0.1888</td>\n",
       "    </tr>\n",
       "    <tr>\n",
       "      <th>svm_corr</th>\n",
       "      <td>0.6491</td>\n",
       "      <td>0.6338</td>\n",
       "      <td>1.0000</td>\n",
       "      <td>0.2976</td>\n",
       "      <td>0.4030</td>\n",
       "    </tr>\n",
       "    <tr>\n",
       "      <th>nn_corr</th>\n",
       "      <td>0.6754</td>\n",
       "      <td>0.1915</td>\n",
       "      <td>0.2976</td>\n",
       "      <td>1.0000</td>\n",
       "      <td>1.0000</td>\n",
       "    </tr>\n",
       "    <tr>\n",
       "      <th>pd_corr</th>\n",
       "      <td>0.6725</td>\n",
       "      <td>0.1888</td>\n",
       "      <td>0.4030</td>\n",
       "      <td>1.0000</td>\n",
       "      <td>1.0000</td>\n",
       "    </tr>\n",
       "  </tbody>\n",
       "</table>\n",
       "</div>"
      ],
      "text/plain": [
       "          Accuracy  rf_corr  svm_corr  nn_corr  pd_corr\n",
       "rf_corr     0.6316   1.0000    0.6338   0.1915   0.1888\n",
       "svm_corr    0.6491   0.6338    1.0000   0.2976   0.4030\n",
       "nn_corr     0.6754   0.1915    0.2976   1.0000   1.0000\n",
       "pd_corr     0.6725   0.1888    0.4030   1.0000   1.0000"
      ]
     },
     "execution_count": 6,
     "metadata": {},
     "output_type": "execute_result"
    }
   ],
   "source": [
    "pd"
   ]
  },
  {
   "cell_type": "code",
   "execution_count": 10,
   "metadata": {},
   "outputs": [
    {
     "name": "stdout",
     "output_type": "stream",
     "text": [
      "\\begin{tabular}{lrrrrr}\n",
      "\\toprule\n",
      "{} &  Accuracy &  rf\\_corr &  svm\\_corr &  nn\\_corr &  pd\\_corr \\\\\n",
      "\\midrule\n",
      "rf\\_corr  &    0.6316 &   1.0000 &    0.6338 &   0.1915 &   0.1888 \\\\\n",
      "svm\\_corr &    0.6491 &   0.6338 &    1.0000 &   0.2976 &   0.4030 \\\\\n",
      "nn\\_corr  &    0.6754 &   0.1915 &    0.2976 &   1.0000 &   1.0000 \\\\\n",
      "pd\\_corr  &    0.6725 &   0.1888 &    0.4030 &   1.0000 &   1.0000 \\\\\n",
      "\\bottomrule\n",
      "\\end{tabular}\n",
      "\n",
      "\\begin{tabular}{lrrrrr}\n",
      "\\toprule\n",
      "{} &  Accuracy &  rf\\_corr &  svm\\_corr &  nn\\_corr &  pi\\_corr \\\\\n",
      "\\midrule\n",
      "rf\\_corr  &    0.6316 &   1.0000 &    0.6338 &   0.1915 &   1.0000 \\\\\n",
      "svm\\_corr &    0.6491 &   0.6338 &    1.0000 &   0.2976 &   0.4828 \\\\\n",
      "nn\\_corr  &    0.6754 &   0.1915 &    0.2976 &   1.0000 &   0.1293 \\\\\n",
      "pi\\_corr  &    0.6287 &   1.0000 &    0.4828 &   0.1293 &   1.0000 \\\\\n",
      "\\bottomrule\n",
      "\\end{tabular}\n",
      "\n",
      "\\begin{tabular}{lrrrrr}\n",
      "\\toprule\n",
      "{} &  Accuracy &  rf\\_corr &  svm\\_corr &  nn\\_corr &  pl\\_corr \\\\\n",
      "\\midrule\n",
      "rf\\_corr  &    0.6316 &   1.0000 &    0.6338 &   0.1915 &   0.4114 \\\\\n",
      "svm\\_corr &    0.6491 &   0.6338 &    1.0000 &   0.2976 &   0.6835 \\\\\n",
      "nn\\_corr  &    0.6754 &   0.1915 &    0.2976 &   1.0000 &   0.5515 \\\\\n",
      "pl\\_corr  &    0.6608 &   0.4114 &    0.6835 &   0.5515 &   1.0000 \\\\\n",
      "\\bottomrule\n",
      "\\end{tabular}\n",
      "\n"
     ]
    }
   ],
   "source": [
    "print(pd.to_latex())\n",
    "\n",
    "print(pi.to_latex())\n",
    "\n",
    "print(pl.to_latex())"
   ]
  },
  {
   "cell_type": "code",
   "execution_count": 7,
   "metadata": {},
   "outputs": [],
   "source": [
    "import subprocess"
   ]
  },
  {
   "cell_type": "code",
   "execution_count": 9,
   "metadata": {},
   "outputs": [
    {
     "data": {
      "text/plain": [
       "CompletedProcess(args=['ls', '-l'], returncode=0, stdout=b'total 428\\n-rwxrwxrwx 1 root root   2409 Feb 28 14:02 data_reader.py\\n-rwxrwxrwx 1 root root  14414 Mar 22 17:53 Experiments.ipynb\\n-rwxrwxrwx 1 root root   3674 Mar 18 14:18 experiments.py\\n-rwxrwxrwx 1 root root   3189 Mar 22 16:52 features.py\\n-rwxrwxrwx 1 root root 335905 Mar  7 15:17 Figures.ipynb\\n-rwxrwxrwx 1 root root  12592 Mar 22 19:13 Model evaluation.ipynb\\n-rwxrwxrwx 1 root root  16660 Mar 22 21:35 models.py\\ndrwxrwxrwx 1 root root   4096 Mar 22 21:43 __pycache__\\n-rwxrwxrwx 1 root root  15163 Feb 28 14:10 slayer.py\\n-rwxrwxrwx 1 root root   2355 Mar 22 19:11 statistical_testing.py\\n-rwxrwxrwx 1 root root   5625 Mar 22 02:53 utils.py\\n', stderr=b'')"
      ]
     },
     "execution_count": 9,
     "metadata": {},
     "output_type": "execute_result"
    }
   ],
   "source": [
    "subprocess.run('ls -l'.split(), capture_output=True)"
   ]
  }
 ],
 "metadata": {
  "kernelspec": {
   "display_name": "Python [conda root]",
   "language": "python",
   "name": "conda-root-py"
  },
  "language_info": {
   "codemirror_mode": {
    "name": "ipython",
    "version": 3
   },
   "file_extension": ".py",
   "mimetype": "text/x-python",
   "name": "python",
   "nbconvert_exporter": "python",
   "pygments_lexer": "ipython3",
   "version": "3.7.2"
  },
  "toc": {
   "base_numbering": 1,
   "nav_menu": {},
   "number_sections": false,
   "sideBar": true,
   "skip_h1_title": false,
   "title_cell": "Table of Contents",
   "title_sidebar": "Contents",
   "toc_cell": false,
   "toc_position": {},
   "toc_section_display": true,
   "toc_window_display": false
  }
 },
 "nbformat": 4,
 "nbformat_minor": 2
}
